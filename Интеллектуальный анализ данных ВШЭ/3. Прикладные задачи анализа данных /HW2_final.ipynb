{
  "nbformat": 4,
  "nbformat_minor": 0,
  "metadata": {
    "kernelspec": {
      "display_name": "Python 3",
      "language": "python",
      "name": "python3"
    },
    "language_info": {
      "codemirror_mode": {
        "name": "ipython",
        "version": 3
      },
      "file_extension": ".py",
      "mimetype": "text/x-python",
      "name": "python",
      "nbconvert_exporter": "python",
      "pygments_lexer": "ipython3",
      "version": "3.7.6"
    },
    "colab": {
      "name": "HW2_final.ipynb",
      "provenance": []
    }
  },
  "cells": [
    {
      "cell_type": "code",
      "metadata": {
        "id": "5D5bQHKezlk3",
        "colab_type": "code",
        "colab": {}
      },
      "source": [
        "import pandas as pd\n",
        "import numpy as np\n",
        "import matplotlib.pyplot as plt\n",
        "from scipy.stats.mstats import mquantiles\n",
        "import warnings\n",
        "import seaborn as sns\n",
        "import scipy.stats as st\n",
        "import datetime\n",
        "\n",
        "warnings.filterwarnings('ignore')\n",
        "plt.style.use('ggplot')\n",
        "plt.rcParams['figure.figsize'] = 20, 10"
      ],
      "execution_count": 0,
      "outputs": []
    },
    {
      "cell_type": "markdown",
      "metadata": {
        "id": "IkLI4F_jzSvL",
        "colab_type": "text"
      },
      "source": [
        "# **Задание 1**\n",
        "\n",
        "Проанализировать набор данных и ответить на следующие вопросы:\n",
        "\n",
        "1) Какой % наблюдений выходит за 5 и 95 перцентиль?\n",
        "\n",
        "2) Какому закону распределения отвечают данные? На основе чего вы так решили?\n",
        "\n",
        "[Ссылка на данные](https://drive.google.com/file/d/1fc8BGSjDiwbZW6rcr3mMSwAjU2T_BpGW/view?usp=sharing)\n",
        "\n",
        "Описание данных:\n",
        "\n",
        "* metrics -- значение определенной метрики в сервисе для пользователя (например, количество кликов). \n",
        "\n",
        "\n",
        "*Вместе с ответом на задание приложить код*"
      ]
    },
    {
      "cell_type": "code",
      "metadata": {
        "id": "88MQsH--zSvM",
        "colab_type": "code",
        "outputId": "08d47777-bc16-47da-c822-88d3fe70da56",
        "colab": {
          "base_uri": "https://localhost:8080/",
          "height": 649
        }
      },
      "source": [
        "!wget -O test1_1.csv  https://drive.google.com/u/0/uc?id=1fc8BGSjDiwbZW6rcr3mMSwAjU2T_BpGW&export=download\n",
        "!pip install fitter"
      ],
      "execution_count": 111,
      "outputs": [
        {
          "output_type": "stream",
          "text": [
            "--2020-04-08 18:43:14--  https://drive.google.com/u/0/uc?id=1fc8BGSjDiwbZW6rcr3mMSwAjU2T_BpGW\n",
            "Resolving drive.google.com (drive.google.com)... 172.217.204.139, 172.217.204.102, 172.217.204.101, ...\n",
            "Connecting to drive.google.com (drive.google.com)|172.217.204.139|:443... connected.\n",
            "HTTP request sent, awaiting response... 302 Moved Temporarily\n",
            "Location: https://doc-0s-2o-docs.googleusercontent.com/docs/securesc/ha0ro937gcuc7l7deffksulhg5h7mbp1/edkdrkaqa9u2cjfo2gp9d81u05ba44ne/1586371350000/08786162772281847194/*/1fc8BGSjDiwbZW6rcr3mMSwAjU2T_BpGW [following]\n",
            "Warning: wildcards not supported in HTTP.\n",
            "--2020-04-08 18:43:14--  https://doc-0s-2o-docs.googleusercontent.com/docs/securesc/ha0ro937gcuc7l7deffksulhg5h7mbp1/edkdrkaqa9u2cjfo2gp9d81u05ba44ne/1586371350000/08786162772281847194/*/1fc8BGSjDiwbZW6rcr3mMSwAjU2T_BpGW\n",
            "Resolving doc-0s-2o-docs.googleusercontent.com (doc-0s-2o-docs.googleusercontent.com)... 173.194.217.132, 2607:f8b0:400c:c13::84\n",
            "Connecting to doc-0s-2o-docs.googleusercontent.com (doc-0s-2o-docs.googleusercontent.com)|173.194.217.132|:443... connected.\n",
            "HTTP request sent, awaiting response... 200 OK\n",
            "Length: unspecified [text/csv]\n",
            "Saving to: ‘test1_1.csv’\n",
            "\n",
            "test1_1.csv             [ <=>                ]   3.18M  --.-KB/s    in 0.02s   \n",
            "\n",
            "2020-04-08 18:43:15 (199 MB/s) - ‘test1_1.csv’ saved [3333054]\n",
            "\n",
            "Collecting fitter\n",
            "  Downloading https://files.pythonhosted.org/packages/29/7a/ea2e070f971d70172f3e4bacba8b1bfadcdb2b8cd547bf1bfb4906426d9e/fitter-1.2.1.tar.gz\n",
            "Requirement already satisfied: numpy in /usr/local/lib/python3.6/dist-packages (from fitter) (1.18.2)\n",
            "Requirement already satisfied: matplotlib in /usr/local/lib/python3.6/dist-packages (from fitter) (3.2.1)\n",
            "Requirement already satisfied: scipy>=0.18 in /usr/local/lib/python3.6/dist-packages (from fitter) (1.4.1)\n",
            "Requirement already satisfied: pandas in /usr/local/lib/python3.6/dist-packages (from fitter) (1.0.3)\n",
            "Requirement already satisfied: pyparsing!=2.0.4,!=2.1.2,!=2.1.6,>=2.0.1 in /usr/local/lib/python3.6/dist-packages (from matplotlib->fitter) (2.4.6)\n",
            "Requirement already satisfied: cycler>=0.10 in /usr/local/lib/python3.6/dist-packages (from matplotlib->fitter) (0.10.0)\n",
            "Requirement already satisfied: python-dateutil>=2.1 in /usr/local/lib/python3.6/dist-packages (from matplotlib->fitter) (2.8.1)\n",
            "Requirement already satisfied: kiwisolver>=1.0.1 in /usr/local/lib/python3.6/dist-packages (from matplotlib->fitter) (1.2.0)\n",
            "Requirement already satisfied: pytz>=2017.2 in /usr/local/lib/python3.6/dist-packages (from pandas->fitter) (2018.9)\n",
            "Requirement already satisfied: six in /usr/local/lib/python3.6/dist-packages (from cycler>=0.10->matplotlib->fitter) (1.12.0)\n",
            "Building wheels for collected packages: fitter\n",
            "  Building wheel for fitter (setup.py) ... \u001b[?25l\u001b[?25hdone\n",
            "  Created wheel for fitter: filename=fitter-1.2.1-cp36-none-any.whl size=22008 sha256=816f49ae266026f9b87d55047525366abcd8aae70eb88e45f7dbe2530bac6587\n",
            "  Stored in directory: /root/.cache/pip/wheels/53/3a/55/e36b00733683c71d53430f6f4db91af4c727ba4339b1e654e6\n",
            "Successfully built fitter\n",
            "Installing collected packages: fitter\n",
            "Successfully installed fitter-1.2.1\n"
          ],
          "name": "stdout"
        }
      ]
    },
    {
      "cell_type": "code",
      "metadata": {
        "id": "dGV8P4aV0CVw",
        "colab_type": "code",
        "colab": {
          "base_uri": "https://localhost:8080/",
          "height": 419
        },
        "outputId": "ee7f4c42-82d6-485e-afae-cd1b04b06eb9"
      },
      "source": [
        "test_1 = pd.read_csv('test1_1.csv', sep=';', index_col=0)\n",
        "test_1"
      ],
      "execution_count": 147,
      "outputs": [
        {
          "output_type": "execute_result",
          "data": {
            "text/html": [
              "<div>\n",
              "<style scoped>\n",
              "    .dataframe tbody tr th:only-of-type {\n",
              "        vertical-align: middle;\n",
              "    }\n",
              "\n",
              "    .dataframe tbody tr th {\n",
              "        vertical-align: top;\n",
              "    }\n",
              "\n",
              "    .dataframe thead th {\n",
              "        text-align: right;\n",
              "    }\n",
              "</style>\n",
              "<table border=\"1\" class=\"dataframe\">\n",
              "  <thead>\n",
              "    <tr style=\"text-align: right;\">\n",
              "      <th></th>\n",
              "      <th>metrics</th>\n",
              "    </tr>\n",
              "  </thead>\n",
              "  <tbody>\n",
              "    <tr>\n",
              "      <th>1</th>\n",
              "      <td>1</td>\n",
              "    </tr>\n",
              "    <tr>\n",
              "      <th>2</th>\n",
              "      <td>1</td>\n",
              "    </tr>\n",
              "    <tr>\n",
              "      <th>3</th>\n",
              "      <td>4</td>\n",
              "    </tr>\n",
              "    <tr>\n",
              "      <th>4</th>\n",
              "      <td>1</td>\n",
              "    </tr>\n",
              "    <tr>\n",
              "      <th>5</th>\n",
              "      <td>1</td>\n",
              "    </tr>\n",
              "    <tr>\n",
              "      <th>...</th>\n",
              "      <td>...</td>\n",
              "    </tr>\n",
              "    <tr>\n",
              "      <th>306835</th>\n",
              "      <td>8</td>\n",
              "    </tr>\n",
              "    <tr>\n",
              "      <th>306836</th>\n",
              "      <td>11</td>\n",
              "    </tr>\n",
              "    <tr>\n",
              "      <th>306837</th>\n",
              "      <td>1</td>\n",
              "    </tr>\n",
              "    <tr>\n",
              "      <th>306838</th>\n",
              "      <td>81</td>\n",
              "    </tr>\n",
              "    <tr>\n",
              "      <th>306839</th>\n",
              "      <td>1</td>\n",
              "    </tr>\n",
              "  </tbody>\n",
              "</table>\n",
              "<p>306839 rows × 1 columns</p>\n",
              "</div>"
            ],
            "text/plain": [
              "        metrics\n",
              "1             1\n",
              "2             1\n",
              "3             4\n",
              "4             1\n",
              "5             1\n",
              "...         ...\n",
              "306835        8\n",
              "306836       11\n",
              "306837        1\n",
              "306838       81\n",
              "306839        1\n",
              "\n",
              "[306839 rows x 1 columns]"
            ]
          },
          "metadata": {
            "tags": []
          },
          "execution_count": 147
        }
      ]
    },
    {
      "cell_type": "code",
      "metadata": {
        "id": "h5idEClY3KQ_",
        "colab_type": "code",
        "outputId": "ac3dcfe4-414c-4b13-e423-162acf28f37d",
        "colab": {
          "base_uri": "https://localhost:8080/",
          "height": 592
        }
      },
      "source": [
        "plt.hist([test_1[\"metrics\"].values], bins=50);\n",
        "q_005, q_095 = mquantiles(test_1[\"metrics\"].values, [0.05, 0.95])\n",
        "plt.axvline(x=q_005, linewidth=3, color='g',linestyle='--');\n",
        "plt.axvline(x=q_095, linewidth=3, color='g',linestyle='--');"
      ],
      "execution_count": 0,
      "outputs": [
        {
          "output_type": "display_data",
          "data": {
            "image/png": "[encoded data removed]",
            "text/plain": [
              "<Figure size 1440x720 with 1 Axes>"
            ]
          },
          "metadata": {
            "tags": []
          }
        }
      ]
    },
    {
      "cell_type": "code",
      "metadata": {
        "id": "pwbQyRa-wTC0",
        "colab_type": "code",
        "outputId": "e0d81daa-99b9-4cc2-85b3-315f8625f7d1",
        "colab": {
          "base_uri": "https://localhost:8080/",
          "height": 34
        }
      },
      "source": [
        "prop = len(test_1[(test_1[\"metrics\"] >= q_005) & (test_1[\"metrics\"] <= q_095)]) * 100/len(test_1) \n",
        "no_prop = 100 - prop\n",
        "print(\"Не входит:\", no_prop)"
      ],
      "execution_count": 142,
      "outputs": [
        {
          "output_type": "stream",
          "text": [
            "Не входит: 4.987306046493444\n"
          ],
          "name": "stdout"
        }
      ]
    },
    {
      "cell_type": "markdown",
      "metadata": {
        "id": "8e9MlZ7xJvB0",
        "colab_type": "text"
      },
      "source": [
        "-----\n",
        "Попробуем определить какому закону распределения отвечают данные. Первая ссылка дала тест Колмогорова-Смирнова, немного модифицировав его (взяв все непрерывные распределения), я получил, что p-value для всех распределений равно 0 и приуныл. Если хотите воспроизвести уныние, то раскомментируйте код."
      ]
    },
    {
      "cell_type": "code",
      "metadata": {
        "id": "WiDZ4qB-MssV",
        "colab_type": "code",
        "colab": {}
      },
      "source": [
        "# import csv\n",
        "# from datetime import datetime\n",
        "# import requests\n",
        "# from bs4 import BeautifulSoup\n",
        "# import re\n",
        "\n",
        "# url = \"https://docs.scipy.org/doc/scipy/reference/stats.html\"\n",
        "# response = requests.get(url)\n",
        "# soup = BeautifulSoup(response.content, 'html5lib')\n",
        "\n",
        "# #https://stackoverflow.com/questions/6620471/fitting-empirical-distribution-to-theoretical-ones-with-scipy-python?lq=1\n",
        "# all_statistical_functions = soup.findAll('tbody')\n",
        "# continious_dist = all_statistical_functions[1]\n",
        "# discrete_dist = all_statistical_functions[3]\n",
        "\n",
        "# dist_list = []\n",
        "# for line in continious_dist:\n",
        "#   if re.search(\"scipy.stats\", str(line)):\n",
        "#     dist_list.extend(re.findall(\"generated/scipy\\.stats\\.(\\w*)\", str(line)))\n",
        "\n",
        "# discrete_dist_list = []\n",
        "# for line in discrete_dist:\n",
        "#   if re.search(\"scipy.stats\", str(line)):\n",
        "#      discrete_dist_list.extend(re.findall(\"generated/scipy\\.stats\\.(\\w*)\", str(line)))\n",
        "\n",
        "# dist_del = [\"geninvgauss\", \"gausshyper\", \"levy_stable\", \"nct\", \"ncf\", \"ncx2\", 'tukeylambda']\n",
        "# for dist_name in dist_del:\n",
        "#     dist_list.remove(dist_name)"
      ],
      "execution_count": 0,
      "outputs": []
    },
    {
      "cell_type": "code",
      "metadata": {
        "id": "Su4jBNXSPx4V",
        "colab_type": "code",
        "colab": {}
      },
      "source": [
        "# def get_best_distribution(data, dist_names, threshold = 120):\n",
        "#     #https://stackoverflow.com/questions/37487830/how-to-find-probability-distribution-and-parameters-for-real-data-python-3/37570540\n",
        "#     dist_results = []\n",
        "#     params = {}\n",
        "#     slow_list = []\n",
        "\n",
        "#     for dist_name in dist_names:\n",
        "#         dist = getattr(st, dist_name)\n",
        "#         start = datetime.datetime.now()\n",
        "#         param = dist.fit(data)\n",
        "#         params[dist_name] = param\n",
        "#         # arg = param[:-2]\n",
        "#         # loc = param[-2]\n",
        "#         # scale = param[-1]\n",
        "#         # # Applying the Kolmogorov-Smirnov test\n",
        "#         D, p = st.kstest(data, dist_name, args=param, N = len(data))\n",
        "#         stop = datetime.datetime.now()\n",
        "#         if (stop - start).seconds > threshold:\n",
        "#             slow_list.append(dist_name)\n",
        "#             print(f\"Время {dist_name}: \", (stop - start).seconds)\n",
        "\n",
        "#         print(\"p value for \" + dist_name + \" = \" + str(p) + \", \" + str(D))\n",
        "#         dist_results.append((dist_name, p))\n",
        "\n",
        "#     # select the best fitted distribution\n",
        "#     best_dist, best_p = (max(dist_results, key=lambda item: item[1]))\n",
        "#     # store the name of the best fit and its p value\n",
        "\n",
        "#     print(\"Best fitting distribution: \" + str(best_dist))\n",
        "#     print(\"Best p value: \" + str(best_p))\n",
        "#     print(\"Parameters for the best fit: \"+ str(params[best_dist]))\n",
        "\n",
        "#     return best_dist, best_p, params[best_dist], slow_list"
      ],
      "execution_count": 0,
      "outputs": []
    },
    {
      "cell_type": "code",
      "metadata": {
        "id": "W1UebANPPbtD",
        "colab_type": "code",
        "colab": {}
      },
      "source": [
        "# best_dist, best_p, params, slow_list = get_best_distribution(test_1[\"metrics\"].values, dist_list)"
      ],
      "execution_count": 0,
      "outputs": []
    },
    {
      "cell_type": "markdown",
      "metadata": {
        "id": "pHAJfvNdKRja",
        "colab_type": "text"
      },
      "source": [
        "--- \n",
        "Недолго длилось уныние, поскольку нашлась библиотека [Fitter](https://fitter.readthedocs.io) - ей я и воспользуюсь."
      ]
    },
    {
      "cell_type": "code",
      "metadata": {
        "id": "hWooBZxfSYu0",
        "colab_type": "code",
        "colab": {}
      },
      "source": [
        "from fitter import Fitter\n",
        "f = Fitter(test_1[\"metrics\"].values, timeout=200)"
      ],
      "execution_count": 0,
      "outputs": []
    },
    {
      "cell_type": "code",
      "metadata": {
        "id": "2RoFr22DT0QQ",
        "colab_type": "code",
        "outputId": "88a7ff11-9433-4dc9-c0ae-7ebc42331b29",
        "colab": {
          "base_uri": "https://localhost:8080/",
          "height": 1000
        }
      },
      "source": [
        "f.fit()"
      ],
      "execution_count": 0,
      "outputs": [
        {
          "output_type": "stream",
          "text": [
            "Fitted alpha distribution with error=0.0043473201289330925)\n",
            "Fitted anglit distribution with error=0.006284350201424501)\n",
            "Fitted arcsine distribution with error=0.005838956302838676)\n",
            "Fitted argus distribution with error=0.006660678436014504)\n",
            "Fitted beta distribution with error=0.00415474762909558)\n",
            "Fitted betaprime distribution with error=0.005320000968614806)\n",
            "Fitted bradford distribution with error=0.004505902142611562)\n",
            "Fitted burr distribution with error=0.0041394662319531855)\n",
            "Fitted burr12 distribution with error=0.006511705273119994)\n",
            "Fitted cauchy distribution with error=0.004449059611721195)\n",
            "Fitted chi distribution with error=0.0049766949315851365)\n",
            "Fitted chi2 distribution with error=0.0024694793861487377)\n",
            "Fitted cosine distribution with error=0.006279419593892543)\n",
            "Fitted crystalball distribution with error=0.0042373990488534805)\n",
            "Fitted dgamma distribution with error=0.00419379459472505)\n",
            "Fitted dweibull distribution with error=0.0044631671140162345)\n",
            "Fitted erlang distribution with error=0.0017739913888960897)\n",
            "Fitted expon distribution with error=0.0005119513270550745)\n",
            "Fitted exponnorm distribution with error=0.0005195347387066969)\n",
            "Fitted exponpow distribution with error=0.0030099892013835503)\n",
            "Fitted exponweib distribution with error=0.0009066894057953763)\n",
            "Fitted f distribution with error=0.00652863429257567)\n",
            "Fitted fatiguelife distribution with error=0.0040466230396842195)\n",
            "Fitted fisk distribution with error=0.003809791875194802)\n",
            "Fitted foldcauchy distribution with error=0.0035778449190674217)\n",
            "Fitted foldnorm distribution with error=0.0032528904692855115)\n",
            "Fitted frechet_l distribution with error=0.006625854962576775)\n",
            "Fitted frechet_r distribution with error=0.0022637330035350884)\n",
            "Fitted gamma distribution with error=0.006212492106400751)\n",
            "Fitted gausshyper distribution with error=0.004011866163653761)\n",
            "Fitted genexpon distribution with error=0.000511793416972856)\n",
            "Fitted genextreme distribution with error=0.005137352909426808)\n",
            "Fitted gengamma distribution with error=0.0029949760922980107)\n",
            "Fitted genhalflogistic distribution with error=0.0010448520430277224)\n",
            "Fitted geninvgauss distribution with error=0.006528853659023414)\n",
            "Fitted genlogistic distribution with error=0.0014981066328717133)\n",
            "Fitted gennorm distribution with error=0.004642773815076587)\n",
            "Fitted genpareto distribution with error=0.006528854864582136)\n",
            "Fitted gilbrat distribution with error=0.0007672591925639121)\n",
            "Fitted gompertz distribution with error=0.00045575445353460007)\n",
            "Fitted gumbel_l distribution with error=0.005919716849193452)\n",
            "Fitted gumbel_r distribution with error=0.0014977509102989109)\n",
            "Fitted halfcauchy distribution with error=0.003577100628579196)\n",
            "Fitted halfgennorm distribution with error=0.005564608184891176)\n",
            "Fitted halflogistic distribution with error=0.001065829516842616)\n",
            "Fitted halfnorm distribution with error=0.003101718455893945)\n",
            "Fitted hypsecant distribution with error=0.0018470536405529652)\n",
            "Fitted invgamma distribution with error=0.006528854858473181)\n",
            "Fitted invgauss distribution with error=0.006528772251684224)\n",
            "Fitted invweibull distribution with error=0.005836918935407783)\n",
            "Fitted johnsonsb distribution with error=0.005825243880090019)\n",
            "Fitted johnsonsu distribution with error=0.0065288524858799135)\n",
            "Fitted kappa3 distribution with error=0.006528854864640727)\n",
            "Fitted kappa4 distribution with error=0.006341383672814289)\n",
            "Fitted ksone distribution with error=0.006477898729544628)\n",
            "Fitted kstwobign distribution with error=0.002971699286162547)\n",
            "Fitted laplace distribution with error=0.002026963422657609)\n",
            "Fitted levy distribution with error=0.006528854505511622)\n",
            "Fitted levy_l distribution with error=0.006469198204763162)\n",
            "SKIPPED levy_stable distribution (taking more than 200 seconds)\n",
            "Fitted loggamma distribution with error=0.0059408323779224234)\n",
            "Fitted logistic distribution with error=0.002420338256016955)\n",
            "Fitted loglaplace distribution with error=0.004545353247571022)\n",
            "Fitted lognorm distribution with error=0.005118789919616755)\n",
            "Fitted loguniform distribution with error=0.006528854864739736)\n",
            "Fitted lomax distribution with error=0.0063994061352311525)\n",
            "Fitted maxwell distribution with error=0.0037588825266613576)\n",
            "Fitted mielke distribution with error=0.006411196693430424)\n",
            "Fitted moyal distribution with error=0.0009883523466383349)\n",
            "Fitted nakagami distribution with error=0.0026412938763648113)\n",
            "SKIPPED ncf distribution (taking more than 200 seconds)\n",
            "SKIPPED nct distribution (taking more than 200 seconds)\n",
            "SKIPPED ncx2 distribution (taking more than 200 seconds)\n",
            "Fitted norm distribution with error=0.004237399212468815)\n",
            "Fitted norminvgauss distribution with error=0.00652683831994914)\n",
            "Fitted pareto distribution with error=0.0013618630221344564)\n",
            "Fitted pearson3 distribution with error=0.00019537282724349357)\n",
            "Fitted powerlaw distribution with error=0.004562170581207799)\n",
            "Fitted powerlognorm distribution with error=0.005559629707777549)\n",
            "Fitted powernorm distribution with error=nan)\n",
            "Fitted rayleigh distribution with error=0.003624237542648453)\n",
            "Fitted rdist distribution with error=0.004240704635666598)\n",
            "Fitted recipinvgauss distribution with error=0.001305673616016389)\n",
            "Fitted reciprocal distribution with error=0.006528854864739736)\n",
            "Fitted rice distribution with error=0.0036751587407709723)\n",
            "SKIPPED rv_continuous distribution (taking more than 200 seconds)\n",
            "SKIPPED rv_histogram distribution (taking more than 200 seconds)\n",
            "Fitted semicircular distribution with error=0.006331189430351019)\n",
            "Fitted skewnorm distribution with error=0.0032532364352471457)\n",
            "Fitted t distribution with error=0.006528128454562152)\n",
            "Fitted trapz distribution with error=0.006583309135703964)\n",
            "Fitted triang distribution with error=0.006162822407882076)\n",
            "Fitted truncexpon distribution with error=0.006318382382518566)\n",
            "SKIPPED truncnorm distribution (taking more than 200 seconds)\n",
            "SKIPPED tukeylambda distribution (taking more than 200 seconds)\n",
            "Fitted uniform distribution with error=0.006428252153899087)\n",
            "Fitted vonmises distribution with error=65830.37784012331)\n",
            "Fitted vonmises_line distribution with error=0.004214635268453658)\n",
            "Fitted wald distribution with error=0.0004118665699976323)\n",
            "Fitted weibull_max distribution with error=0.006625854962576775)\n",
            "Fitted weibull_min distribution with error=0.0022637330035350884)\n",
            "Fitted wrapcauchy distribution with error=nan)\n"
          ],
          "name": "stdout"
        }
      ]
    },
    {
      "cell_type": "code",
      "metadata": {
        "id": "pHx15vZumIHz",
        "colab_type": "code",
        "outputId": "da281f7d-3a43-4059-a3b2-5d19e26df61c",
        "colab": {
          "base_uri": "https://localhost:8080/",
          "height": 779
        }
      },
      "source": [
        "f.summary()"
      ],
      "execution_count": 0,
      "outputs": [
        {
          "output_type": "execute_result",
          "data": {
            "text/html": [
              "<div>\n",
              "<style scoped>\n",
              "    .dataframe tbody tr th:only-of-type {\n",
              "        vertical-align: middle;\n",
              "    }\n",
              "\n",
              "    .dataframe tbody tr th {\n",
              "        vertical-align: top;\n",
              "    }\n",
              "\n",
              "    .dataframe thead th {\n",
              "        text-align: right;\n",
              "    }\n",
              "</style>\n",
              "<table border=\"1\" class=\"dataframe\">\n",
              "  <thead>\n",
              "    <tr style=\"text-align: right;\">\n",
              "      <th></th>\n",
              "      <th>sumsquare_error</th>\n",
              "      <th>aic</th>\n",
              "      <th>bic</th>\n",
              "      <th>kl_div</th>\n",
              "    </tr>\n",
              "  </thead>\n",
              "  <tbody>\n",
              "    <tr>\n",
              "      <th>pearson3</th>\n",
              "      <td>0.000195</td>\n",
              "      <td>17776.786185</td>\n",
              "      <td>-6.497180e+06</td>\n",
              "      <td>inf</td>\n",
              "    </tr>\n",
              "    <tr>\n",
              "      <th>wald</th>\n",
              "      <td>0.000412</td>\n",
              "      <td>8206.488213</td>\n",
              "      <td>-6.268355e+06</td>\n",
              "      <td>inf</td>\n",
              "    </tr>\n",
              "    <tr>\n",
              "      <th>gompertz</th>\n",
              "      <td>0.000456</td>\n",
              "      <td>11788.601085</td>\n",
              "      <td>-6.237273e+06</td>\n",
              "      <td>inf</td>\n",
              "    </tr>\n",
              "    <tr>\n",
              "      <th>genexpon</th>\n",
              "      <td>0.000512</td>\n",
              "      <td>11354.450273</td>\n",
              "      <td>-6.201665e+06</td>\n",
              "      <td>inf</td>\n",
              "    </tr>\n",
              "    <tr>\n",
              "      <th>expon</th>\n",
              "      <td>0.000512</td>\n",
              "      <td>11347.281405</td>\n",
              "      <td>-6.201608e+06</td>\n",
              "      <td>inf</td>\n",
              "    </tr>\n",
              "  </tbody>\n",
              "</table>\n",
              "</div>"
            ],
            "text/plain": [
              "          sumsquare_error           aic           bic  kl_div\n",
              "pearson3         0.000195  17776.786185 -6.497180e+06     inf\n",
              "wald             0.000412   8206.488213 -6.268355e+06     inf\n",
              "gompertz         0.000456  11788.601085 -6.237273e+06     inf\n",
              "genexpon         0.000512  11354.450273 -6.201665e+06     inf\n",
              "expon            0.000512  11347.281405 -6.201608e+06     inf"
            ]
          },
          "metadata": {
            "tags": []
          },
          "execution_count": 15
        },
        {
          "output_type": "display_data",
          "data": {
            "image/png": "[encoded data removed]",
            "text/plain": [
              "<Figure size 1440x720 with 1 Axes>"
            ]
          },
          "metadata": {
            "tags": []
          }
        }
      ]
    },
    {
      "cell_type": "code",
      "metadata": {
        "id": "NhQ2e4qQUdN5",
        "colab_type": "code",
        "outputId": "d5244de4-1acb-4e4d-dc60-ec67635eb369",
        "colab": {
          "base_uri": "https://localhost:8080/",
          "height": 34
        }
      },
      "source": [
        "f.get_best()"
      ],
      "execution_count": 0,
      "outputs": [
        {
          "output_type": "execute_result",
          "data": {
            "text/plain": [
              "{'pearson3': (2.16361683268579, 5.930401362739387, 5.333749690159948)}"
            ]
          },
          "metadata": {
            "tags": []
          },
          "execution_count": 14
        }
      ]
    },
    {
      "cell_type": "markdown",
      "metadata": {
        "id": "QgzCKBExKhnG",
        "colab_type": "text"
      },
      "source": [
        "Получаем такое распределение с параметрами."
      ]
    },
    {
      "cell_type": "markdown",
      "metadata": {
        "id": "5U2RbbRxzSvS",
        "colab_type": "text"
      },
      "source": [
        "# **Задание 2**\n",
        "\n",
        "Определить, можно сравнить две представленные выборки t критерием Стьюдента? \n",
        "\n",
        "Если нельзя сравнивать t-критерием, то что будем использовать и почему?\n",
        "\n",
        "Ответ аргументировать и описать \n",
        "\n",
        "[Ссылка на данные](https://drive.google.com/file/d/1blvC6TEBWghhVMexjOdoGEjzhZZh3wSy/view?usp=sharing)\n",
        "\n",
        "Описание данных: \n",
        "\n",
        "* variant -- вариация в А/Б тесте (либо группа А -- например, сайт без изменений. Либо группа Б -- сайт с изменениями)\n",
        "* metrics -- значение определенной метрики в сервисе для пользователя (например, количество кликов). \n",
        "\n",
        "*Вместе с ответом на задание приложить код*"
      ]
    },
    {
      "cell_type": "code",
      "metadata": {
        "id": "XTmVKzR8zSvT",
        "colab_type": "code",
        "outputId": "30ac80db-3fe2-4084-b82b-21df836e8f74",
        "colab": {
          "base_uri": "https://localhost:8080/",
          "height": 326
        }
      },
      "source": [
        "!wget -O test_2.csv https://drive.google.com/u/0/uc?id=1blvC6TEBWghhVMexjOdoGEjzhZZh3wSy&export=download"
      ],
      "execution_count": 0,
      "outputs": [
        {
          "output_type": "stream",
          "text": [
            "--2020-04-08 16:51:05--  https://drive.google.com/u/0/uc?id=1blvC6TEBWghhVMexjOdoGEjzhZZh3wSy\n",
            "Resolving drive.google.com (drive.google.com)... 172.217.203.100, 172.217.203.113, 172.217.203.139, ...\n",
            "Connecting to drive.google.com (drive.google.com)|172.217.203.100|:443... connected.\n",
            "HTTP request sent, awaiting response... 302 Moved Temporarily\n",
            "Location: https://doc-0c-2o-docs.googleusercontent.com/docs/securesc/ha0ro937gcuc7l7deffksulhg5h7mbp1/nqcunp8jnff148qe41bdvbat20rv1r6b/1586364600000/08786162772281847194/*/1blvC6TEBWghhVMexjOdoGEjzhZZh3wSy [following]\n",
            "Warning: wildcards not supported in HTTP.\n",
            "--2020-04-08 16:51:06--  https://doc-0c-2o-docs.googleusercontent.com/docs/securesc/ha0ro937gcuc7l7deffksulhg5h7mbp1/nqcunp8jnff148qe41bdvbat20rv1r6b/1586364600000/08786162772281847194/*/1blvC6TEBWghhVMexjOdoGEjzhZZh3wSy\n",
            "Resolving doc-0c-2o-docs.googleusercontent.com (doc-0c-2o-docs.googleusercontent.com)... 173.194.217.132, 2607:f8b0:400c:c13::84\n",
            "Connecting to doc-0c-2o-docs.googleusercontent.com (doc-0c-2o-docs.googleusercontent.com)|173.194.217.132|:443... connected.\n",
            "HTTP request sent, awaiting response... 200 OK\n",
            "Length: unspecified [text/csv]\n",
            "Saving to: ‘test_2.csv’\n",
            "\n",
            "test_2.csv              [ <=>                ]   2.57M  --.-KB/s    in 0.01s   \n",
            "\n",
            "2020-04-08 16:51:06 (221 MB/s) - ‘test_2.csv’ saved [2693390]\n",
            "\n"
          ],
          "name": "stdout"
        }
      ]
    },
    {
      "cell_type": "markdown",
      "metadata": {
        "id": "MRAaumXRz4Gs",
        "colab_type": "text"
      },
      "source": [
        "### Условия проведения t-test\n",
        "\n",
        "Пусть необходимо проверить гипотезу о равенстве средних значений в двух независимых выборках. Для этой цели подходит критерий Стьюдента. Но применение критерия Стьюдента обосновано, только если данные подчиняются нормальному распределению. Поэтому перед применением критерия необходимо проверить гипотезу о нормальности исходных данных. Или проверка остатков линейной регрессии на нормальность — позволяет проверить, соответствует ли применяемая модель регрессии исходным данным.\n",
        "\n",
        "Для применения t-критерия Стьюдента данные должны удовлетворять следующим условиям:\n",
        "\n",
        "* Гомогенность дисперсий - дисперсии внутри наших групп должны быть приблизительно одинаковыми\n",
        "* Нормальность распределения (особенно важно для выборок с количеством наблюдений меньше 30)\n",
        "связные выборки:\n",
        "* Нормальность распределения (особенно важно для выборок с количеством наблюдений меньше 30)"
      ]
    },
    {
      "cell_type": "markdown",
      "metadata": {
        "id": "dlpa_FCdTyVK",
        "colab_type": "text"
      },
      "source": [
        "#### Проверка на нормальность\n",
        "1. [Тест Лиллифорса на нормальность или экспоненциальное распределение.](https://www.statsmodels.org/v0.10.2/generated/statsmodels.stats.diagnostic.lilliefors.html#statsmodels.stats.diagnostic.lilliefors)\n",
        "\n",
        "Критерий Лиллифорса (Lilliefors) является вариантом известного классического критерия Колмогорова-Смирнова, специально модифицированного для проверки нормальности. Эта модификация существенна. Для проверки гипотезы нормальности нельзя использовать классический непараметрический критерий Колмогорова-Смирнова\n",
        "\n",
        "$H_0$: данные были получены из нормального / экспоненциального распределения\n",
        "\n",
        "$H_A$: данные не были получены из нормального / экспоненциального распределения\n",
        "\n",
        "* Если значение pvalue ниже некоторого порогового значения, например 0,05, то мы можем отвергнуть нулевую гипотезу о том, что выборка исходит из нормального распределения\n",
        "\n",
        "\n",
        "2. Тест Шапиро-Уилка\n",
        "\n",
        "Тест Шапиро-Уилка проверяет нулевую гипотезу о том, что данные были получены из нормального распределения.\n",
        "\n",
        "$H_0$: данные были получены из нормального распределения\n",
        "\n",
        "$H_A$: данные не были взяты из нормального распределения\n",
        "\n",
        "if p_value > 0.05:\n",
        "* мы не можем отвергнуть нулевую гипотезу о том, что выборка исходит из нормального распределения\n",
        "\n",
        "еще:\n",
        "* мы можем отвергнуть нулевую гипотезу о том, что выборка исходит из нормального распределения\n",
        "\n",
        "3. Тест Андерсона-Дарлинга для данных, поступающих из конкретного распределения.\n",
        "\n",
        "Тест Андерсон-Дарлинга проверяет нулевую гипотезу о том, что выборка берется из популяции, которая следует определенному распределению. Для критерия Андерсона-Дарлинга критические значения зависят от того, с каким распределением проводится проверка. Эта функция работает для нормального, экспоненциального, логистического, или Гумбеля (экстремальный тип значения I) распределения.\n",
        "\n",
        "$H_0$: данные были получены из нормального распределения\n",
        "\n",
        "$H_A$: данные не были взяты из нормального распределения\n"
      ]
    },
    {
      "cell_type": "code",
      "metadata": {
        "id": "eE6MZbzbzuaw",
        "colab_type": "code",
        "colab": {}
      },
      "source": [
        "from statsmodels.stats.diagnostic import lilliefors\n",
        "from scipy.stats import shapiro\n",
        "from scipy.stats import anderson"
      ],
      "execution_count": 0,
      "outputs": []
    },
    {
      "cell_type": "code",
      "metadata": {
        "id": "G1zfPp05194X",
        "colab_type": "code",
        "outputId": "45ccc1c0-2976-4ba2-ff04-7f3d7e84a2ae",
        "colab": {
          "base_uri": "https://localhost:8080/",
          "height": 419
        }
      },
      "source": [
        "test_2 = pd.read_csv(\"test_2.csv\", delimiter=\";\", index_col=0)\n",
        "test_2"
      ],
      "execution_count": 0,
      "outputs": [
        {
          "output_type": "execute_result",
          "data": {
            "text/html": [
              "<div>\n",
              "<style scoped>\n",
              "    .dataframe tbody tr th:only-of-type {\n",
              "        vertical-align: middle;\n",
              "    }\n",
              "\n",
              "    .dataframe tbody tr th {\n",
              "        vertical-align: top;\n",
              "    }\n",
              "\n",
              "    .dataframe thead th {\n",
              "        text-align: right;\n",
              "    }\n",
              "</style>\n",
              "<table border=\"1\" class=\"dataframe\">\n",
              "  <thead>\n",
              "    <tr style=\"text-align: right;\">\n",
              "      <th></th>\n",
              "      <th>variant</th>\n",
              "      <th>metrics</th>\n",
              "    </tr>\n",
              "  </thead>\n",
              "  <tbody>\n",
              "    <tr>\n",
              "      <th>1</th>\n",
              "      <td>A</td>\n",
              "      <td>1</td>\n",
              "    </tr>\n",
              "    <tr>\n",
              "      <th>2</th>\n",
              "      <td>B</td>\n",
              "      <td>1</td>\n",
              "    </tr>\n",
              "    <tr>\n",
              "      <th>3</th>\n",
              "      <td>A</td>\n",
              "      <td>4</td>\n",
              "    </tr>\n",
              "    <tr>\n",
              "      <th>4</th>\n",
              "      <td>B</td>\n",
              "      <td>37</td>\n",
              "    </tr>\n",
              "    <tr>\n",
              "      <th>5</th>\n",
              "      <td>B</td>\n",
              "      <td>4</td>\n",
              "    </tr>\n",
              "    <tr>\n",
              "      <th>...</th>\n",
              "      <td>...</td>\n",
              "      <td>...</td>\n",
              "    </tr>\n",
              "    <tr>\n",
              "      <th>184200</th>\n",
              "      <td>A</td>\n",
              "      <td>12</td>\n",
              "    </tr>\n",
              "    <tr>\n",
              "      <th>184201</th>\n",
              "      <td>A</td>\n",
              "      <td>8</td>\n",
              "    </tr>\n",
              "    <tr>\n",
              "      <th>184202</th>\n",
              "      <td>B</td>\n",
              "      <td>11</td>\n",
              "    </tr>\n",
              "    <tr>\n",
              "      <th>184203</th>\n",
              "      <td>B</td>\n",
              "      <td>81</td>\n",
              "    </tr>\n",
              "    <tr>\n",
              "      <th>184204</th>\n",
              "      <td>A</td>\n",
              "      <td>1</td>\n",
              "    </tr>\n",
              "  </tbody>\n",
              "</table>\n",
              "<p>184204 rows × 2 columns</p>\n",
              "</div>"
            ],
            "text/plain": [
              "       variant  metrics\n",
              "1            A        1\n",
              "2            B        1\n",
              "3            A        4\n",
              "4            B       37\n",
              "5            B        4\n",
              "...        ...      ...\n",
              "184200       A       12\n",
              "184201       A        8\n",
              "184202       B       11\n",
              "184203       B       81\n",
              "184204       A        1\n",
              "\n",
              "[184204 rows x 2 columns]"
            ]
          },
          "metadata": {
            "tags": []
          },
          "execution_count": 20
        }
      ]
    },
    {
      "cell_type": "code",
      "metadata": {
        "id": "uKPDWYuB2Crn",
        "colab_type": "code",
        "outputId": "405f4288-e11f-4d6a-b65c-e732f18d00bc",
        "colab": {
          "base_uri": "https://localhost:8080/",
          "height": 592
        }
      },
      "source": [
        "test_2[\"metrics\"].plot(kind=\"hist\");"
      ],
      "execution_count": 0,
      "outputs": [
        {
          "output_type": "display_data",
          "data": {
            "image/png": "[encoded data removed]",
            "text/plain": [
              "<Figure size 1440x720 with 1 Axes>"
            ]
          },
          "metadata": {
            "tags": []
          }
        }
      ]
    },
    {
      "cell_type": "code",
      "metadata": {
        "id": "m22xFfryz2SY",
        "colab_type": "code",
        "colab": {}
      },
      "source": [
        "ksstat_lil, p_value_lil = lilliefors(test_2[\"metrics\"].values)\n",
        "statistic, crit_values, significance_level = anderson(test_2[\"metrics\"].values, dist='norm')\n",
        "_, p_value_shapiro = shapiro(test_2[\"metrics\"].values)"
      ],
      "execution_count": 0,
      "outputs": []
    },
    {
      "cell_type": "code",
      "metadata": {
        "id": "brsIWVrGBs_e",
        "colab_type": "code",
        "outputId": "e0fe505d-e1ff-4591-b06b-5d88737e6353",
        "colab": {
          "base_uri": "https://localhost:8080/",
          "height": 102
        }
      },
      "source": [
        "for i in range(len(crit_values)):\n",
        "\tsl, cv = significance_level[i], crit_values[i]\n",
        "\tif statistic < crit_values[i]:\n",
        "\t\tprint('%.3f: %.3f, data looks normal (fail to reject H0)' % (sl, cv))\n",
        "\telse:\n",
        "\t\tprint('%.3f: %.3f, data does not look normal (reject H0)' % (sl, cv))"
      ],
      "execution_count": 0,
      "outputs": [
        {
          "output_type": "stream",
          "text": [
            "15.000: 0.576, data does not look normal (reject H0)\n",
            "10.000: 0.656, data does not look normal (reject H0)\n",
            "5.000: 0.787, data does not look normal (reject H0)\n",
            "2.500: 0.918, data does not look normal (reject H0)\n",
            "1.000: 1.092, data does not look normal (reject H0)\n"
          ],
          "name": "stdout"
        }
      ]
    },
    {
      "cell_type": "code",
      "metadata": {
        "id": "ZVmDh5ZzYAIZ",
        "colab_type": "code",
        "outputId": "c37200d8-616c-4bfb-e926-a1d8ec7fec20",
        "colab": {
          "base_uri": "https://localhost:8080/",
          "height": 34
        }
      },
      "source": [
        "alpha = 0.05\n",
        "if p_value_lil > alpha:\n",
        "\tprint('Sample looks Gaussian (fail to reject H0) Lilliefors-test')\n",
        "else:\n",
        "\tprint('Sample does not look Gaussian (reject H0) Lilliefors-test')"
      ],
      "execution_count": 0,
      "outputs": [
        {
          "output_type": "stream",
          "text": [
            "Sample does not look Gaussian (reject H0) Lilliefors-test\n"
          ],
          "name": "stdout"
        }
      ]
    },
    {
      "cell_type": "code",
      "metadata": {
        "id": "0zFj443aYaHL",
        "colab_type": "code",
        "outputId": "d7b6b5c2-5a9b-42ce-9576-f5e20f06a6e2",
        "colab": {
          "base_uri": "https://localhost:8080/",
          "height": 34
        }
      },
      "source": [
        "alpha = 0.05\n",
        "if p_value_shapiro > alpha:\n",
        "\tprint('Sample looks Gaussian (fail to reject H0) Shapiro-Wilk-test')\n",
        "else:\n",
        "\tprint('Sample does not look Gaussian (reject H0) Shapiro-Wilk-test')"
      ],
      "execution_count": 0,
      "outputs": [
        {
          "output_type": "stream",
          "text": [
            "Sample does not look Gaussian (reject H0) Shapiro-Wilk-test\n"
          ],
          "name": "stdout"
        }
      ]
    },
    {
      "cell_type": "markdown",
      "metadata": {
        "id": "EOwvSrxfYgg6",
        "colab_type": "text"
      },
      "source": [
        "Получили, что мы отвергаем гипотезу о нормальности в трех тестах, поэтому применять t-test невозможно. Но если данные проходили по тестам, то нужно было бы проверить на гомогенность дисперсий с помощью критерия Левена (для двух выборок) или с помощью Барлетта."
      ]
    },
    {
      "cell_type": "markdown",
      "metadata": {
        "id": "eHDzBPioZ9tt",
        "colab_type": "text"
      },
      "source": [
        "Тогда используем критерий Манна-Уитни-Вилкоксона - статистический критерий, используемый для оценки различий между двумя независимыми выборками по уровню какого-либо признака, измеренного количественно. Позволяет выявлять различия в значении параметра между малыми выборками.\n",
        "\n",
        "$H_0$: равенсто медиан распределений ранговых значений\n",
        "\n",
        "$H_A$: неравенсто медиан распределений ранговых значений"
      ]
    },
    {
      "cell_type": "code",
      "metadata": {
        "id": "WxzR9Ptk9VtD",
        "colab_type": "code",
        "colab": {}
      },
      "source": [
        "from scipy.stats import mannwhitneyu"
      ],
      "execution_count": 0,
      "outputs": []
    },
    {
      "cell_type": "code",
      "metadata": {
        "id": "8sbEle7vB53e",
        "colab_type": "code",
        "colab": {}
      },
      "source": [
        "group_A = test_2[test_2[\"variant\"] == \"A\"][\"metrics\"].values\n",
        "group_B = test_2[test_2[\"variant\"] == \"B\"][\"metrics\"].values"
      ],
      "execution_count": 0,
      "outputs": []
    },
    {
      "cell_type": "code",
      "metadata": {
        "id": "uuVjVpzBB3H_",
        "colab_type": "code",
        "colab": {}
      },
      "source": [
        "_, pvalue = mannwhitneyu(group_A, group_B)"
      ],
      "execution_count": 0,
      "outputs": []
    },
    {
      "cell_type": "code",
      "metadata": {
        "id": "lvZIQ0UCsB_0",
        "colab_type": "code",
        "outputId": "4f87b893-3b1a-405c-9fc3-8b00edc8684a",
        "colab": {
          "base_uri": "https://localhost:8080/",
          "height": 34
        }
      },
      "source": [
        "alpha = 0.05\n",
        "if pvalue > alpha:\n",
        "\tprint('Same distribution (fail to reject H0)')\n",
        "else:\n",
        "\tprint('Different distribution (reject H0)')"
      ],
      "execution_count": 0,
      "outputs": [
        {
          "output_type": "stream",
          "text": [
            "Different distribution (reject H0)\n"
          ],
          "name": "stdout"
        }
      ]
    },
    {
      "cell_type": "markdown",
      "metadata": {
        "id": "kaRhviKmGHfI",
        "colab_type": "text"
      },
      "source": [
        "Нулевая гипотеза отвергается на выбранном уровне значимости, и различия между выборками признаются статистически значимыми."
      ]
    },
    {
      "cell_type": "markdown",
      "metadata": {
        "id": "h9F0dy3FzSvX",
        "colab_type": "text"
      },
      "source": [
        "# **Задание 3**\n",
        "\n",
        "Дано две выборки по А/Б тесту.\n",
        "\n",
        "Две выборки несбалансированные - кол-во пользователей в каждой группе разные.\n",
        "\n",
        "Метрика, которую меряем в эксперименте (и которую используем для определения группы, которая лучше себя показала) - кол-во просмотренных страниц на пользователя \n",
        "\n",
        "Как вы будете принимать решение, какая группа лучше А или Б, и какие статистические методы (критерии) вы будете использовать, какие преобразования к данным применять? P.S. Вам может помочь лекция Виталия Черемисинова, где он рассказывал про А/Б тесты\n",
        "\n",
        "[Ссылка на данные](https://drive.google.com/file/d/1_g7Dw7-8QzTS47D6GNKMb0FzqMAWBDba/view?usp=sharing)\n",
        "\n",
        "Описание данных: \n",
        "\n",
        "* variant -- вариация в А/Б тесте (либо группа А -- например, сайт без изменений. Либо группа Б -- сайт с изменениями)\n",
        "* metrics -- значение определенной метрики в сервисе для пользователя (например, количество кликов). \n",
        "\n",
        "\n",
        "*Вместе с ответом на задание приложить код*"
      ]
    },
    {
      "cell_type": "code",
      "metadata": {
        "id": "DujkzHeZzSvX",
        "colab_type": "code",
        "outputId": "ff5aeaf8-10d5-484f-96a2-97f6e7ee905c",
        "colab": {
          "base_uri": "https://localhost:8080/",
          "height": 326
        }
      },
      "source": [
        "!wget -O test3.csv https://drive.google.com/u/0/uc?id=1_g7Dw7-8QzTS47D6GNKMb0FzqMAWBDba&export=download"
      ],
      "execution_count": 0,
      "outputs": [
        {
          "output_type": "stream",
          "text": [
            "--2020-04-08 16:33:48--  https://drive.google.com/u/0/uc?id=1_g7Dw7-8QzTS47D6GNKMb0FzqMAWBDba\n",
            "Resolving drive.google.com (drive.google.com)... 172.217.204.102, 172.217.204.139, 172.217.204.100, ...\n",
            "Connecting to drive.google.com (drive.google.com)|172.217.204.102|:443... connected.\n",
            "HTTP request sent, awaiting response... 302 Moved Temporarily\n",
            "Location: https://doc-0k-2o-docs.googleusercontent.com/docs/securesc/ha0ro937gcuc7l7deffksulhg5h7mbp1/g5ve94ncqliq60qucso5960p626q349c/1586363625000/08786162772281847194/*/1_g7Dw7-8QzTS47D6GNKMb0FzqMAWBDba [following]\n",
            "Warning: wildcards not supported in HTTP.\n",
            "--2020-04-08 16:33:48--  https://doc-0k-2o-docs.googleusercontent.com/docs/securesc/ha0ro937gcuc7l7deffksulhg5h7mbp1/g5ve94ncqliq60qucso5960p626q349c/1586363625000/08786162772281847194/*/1_g7Dw7-8QzTS47D6GNKMb0FzqMAWBDba\n",
            "Resolving doc-0k-2o-docs.googleusercontent.com (doc-0k-2o-docs.googleusercontent.com)... 173.194.217.132, 2607:f8b0:400c:c13::84\n",
            "Connecting to doc-0k-2o-docs.googleusercontent.com (doc-0k-2o-docs.googleusercontent.com)|173.194.217.132|:443... connected.\n",
            "HTTP request sent, awaiting response... 200 OK\n",
            "Length: 1534353 (1.5M) [text/csv]\n",
            "Saving to: ‘test3.csv’\n",
            "\n",
            "test3.csv           100%[===================>]   1.46M  --.-KB/s    in 0.009s  \n",
            "\n",
            "2020-04-08 16:33:49 (170 MB/s) - ‘test3.csv’ saved [1534353/1534353]\n",
            "\n"
          ],
          "name": "stdout"
        }
      ]
    },
    {
      "cell_type": "code",
      "metadata": {
        "id": "NyQKTKtShpKy",
        "colab_type": "code",
        "outputId": "0be52d44-65fd-4924-9255-c9db7529d820",
        "colab": {
          "base_uri": "https://localhost:8080/",
          "height": 419
        }
      },
      "source": [
        "data_3 = pd.read_csv(\"test3.csv\", delimiter=\";\", index_col=0)\n",
        "data_3"
      ],
      "execution_count": 0,
      "outputs": [
        {
          "output_type": "execute_result",
          "data": {
            "text/html": [
              "<div>\n",
              "<style scoped>\n",
              "    .dataframe tbody tr th:only-of-type {\n",
              "        vertical-align: middle;\n",
              "    }\n",
              "\n",
              "    .dataframe tbody tr th {\n",
              "        vertical-align: top;\n",
              "    }\n",
              "\n",
              "    .dataframe thead th {\n",
              "        text-align: right;\n",
              "    }\n",
              "</style>\n",
              "<table border=\"1\" class=\"dataframe\">\n",
              "  <thead>\n",
              "    <tr style=\"text-align: right;\">\n",
              "      <th></th>\n",
              "      <th>variant</th>\n",
              "      <th>metrics</th>\n",
              "    </tr>\n",
              "  </thead>\n",
              "  <tbody>\n",
              "    <tr>\n",
              "      <th>1</th>\n",
              "      <td>A</td>\n",
              "      <td>1</td>\n",
              "    </tr>\n",
              "    <tr>\n",
              "      <th>2</th>\n",
              "      <td>A</td>\n",
              "      <td>4</td>\n",
              "    </tr>\n",
              "    <tr>\n",
              "      <th>3</th>\n",
              "      <td>A</td>\n",
              "      <td>15</td>\n",
              "    </tr>\n",
              "    <tr>\n",
              "      <th>4</th>\n",
              "      <td>A</td>\n",
              "      <td>1</td>\n",
              "    </tr>\n",
              "    <tr>\n",
              "      <th>5</th>\n",
              "      <td>A</td>\n",
              "      <td>10</td>\n",
              "    </tr>\n",
              "    <tr>\n",
              "      <th>...</th>\n",
              "      <td>...</td>\n",
              "      <td>...</td>\n",
              "    </tr>\n",
              "    <tr>\n",
              "      <th>108095</th>\n",
              "      <td>D</td>\n",
              "      <td>1</td>\n",
              "    </tr>\n",
              "    <tr>\n",
              "      <th>108096</th>\n",
              "      <td>A</td>\n",
              "      <td>1</td>\n",
              "    </tr>\n",
              "    <tr>\n",
              "      <th>108097</th>\n",
              "      <td>A</td>\n",
              "      <td>12</td>\n",
              "    </tr>\n",
              "    <tr>\n",
              "      <th>108098</th>\n",
              "      <td>A</td>\n",
              "      <td>8</td>\n",
              "    </tr>\n",
              "    <tr>\n",
              "      <th>108099</th>\n",
              "      <td>A</td>\n",
              "      <td>1</td>\n",
              "    </tr>\n",
              "  </tbody>\n",
              "</table>\n",
              "<p>108099 rows × 2 columns</p>\n",
              "</div>"
            ],
            "text/plain": [
              "       variant  metrics\n",
              "1            A        1\n",
              "2            A        4\n",
              "3            A       15\n",
              "4            A        1\n",
              "5            A       10\n",
              "...        ...      ...\n",
              "108095       D        1\n",
              "108096       A        1\n",
              "108097       A       12\n",
              "108098       A        8\n",
              "108099       A        1\n",
              "\n",
              "[108099 rows x 2 columns]"
            ]
          },
          "metadata": {
            "tags": []
          },
          "execution_count": 3
        }
      ]
    },
    {
      "cell_type": "code",
      "metadata": {
        "id": "55DnN-1djgb2",
        "colab_type": "code",
        "outputId": "cc8f489c-f110-4704-a9b3-913392175f37",
        "colab": {
          "base_uri": "https://localhost:8080/",
          "height": 142
        }
      },
      "source": [
        "data_3.groupby([\"variant\"]).count()"
      ],
      "execution_count": 0,
      "outputs": [
        {
          "output_type": "execute_result",
          "data": {
            "text/html": [
              "<div>\n",
              "<style scoped>\n",
              "    .dataframe tbody tr th:only-of-type {\n",
              "        vertical-align: middle;\n",
              "    }\n",
              "\n",
              "    .dataframe tbody tr th {\n",
              "        vertical-align: top;\n",
              "    }\n",
              "\n",
              "    .dataframe thead th {\n",
              "        text-align: right;\n",
              "    }\n",
              "</style>\n",
              "<table border=\"1\" class=\"dataframe\">\n",
              "  <thead>\n",
              "    <tr style=\"text-align: right;\">\n",
              "      <th></th>\n",
              "      <th>metrics</th>\n",
              "    </tr>\n",
              "    <tr>\n",
              "      <th>variant</th>\n",
              "      <th></th>\n",
              "    </tr>\n",
              "  </thead>\n",
              "  <tbody>\n",
              "    <tr>\n",
              "      <th>A</th>\n",
              "      <td>92686</td>\n",
              "    </tr>\n",
              "    <tr>\n",
              "      <th>D</th>\n",
              "      <td>15413</td>\n",
              "    </tr>\n",
              "  </tbody>\n",
              "</table>\n",
              "</div>"
            ],
            "text/plain": [
              "         metrics\n",
              "variant         \n",
              "A          92686\n",
              "D          15413"
            ]
          },
          "metadata": {
            "tags": []
          },
          "execution_count": 4
        }
      ]
    },
    {
      "cell_type": "code",
      "metadata": {
        "id": "HixSVtXSjfBG",
        "colab_type": "code",
        "colab": {}
      },
      "source": [
        "group_A = data_3[data_3.variant == \"A\"]\n",
        "group_B = data_3[data_3.variant == \"D\"]"
      ],
      "execution_count": 0,
      "outputs": []
    },
    {
      "cell_type": "code",
      "metadata": {
        "id": "jkFHxsFth_CX",
        "colab_type": "code",
        "outputId": "31f5f600-149e-4872-d270-1a847c6e10f1",
        "colab": {
          "base_uri": "https://localhost:8080/",
          "height": 609
        }
      },
      "source": [
        "sns.distplot(group_A[\"metrics\"].values, label='A');\n",
        "sns.distplot(group_B[\"metrics\"].values, label='D');\n",
        "\n",
        "plt.xlabel('value')\n",
        "plt.ylabel('density')\n",
        "plt.show()"
      ],
      "execution_count": 0,
      "outputs": [
        {
          "output_type": "display_data",
          "data": {
            "image/png": "[encoded data removed]",
            "text/plain": [
              "<Figure size 1440x720 with 1 Axes>"
            ]
          },
          "metadata": {
            "tags": []
          }
        }
      ]
    },
    {
      "cell_type": "code",
      "metadata": {
        "id": "dOEa0Nb-it5F",
        "colab_type": "code",
        "colab": {}
      },
      "source": [
        "def bootstrap(sample, size = 5000, boot = 100000):\n",
        "    boot_means = []\n",
        "    for _ in range(boot):\n",
        "        bootsample = np.random.choice(sample, size=size, replace=True)\n",
        "        boot_means.append(bootsample.mean())\n",
        "    return boot_means"
      ],
      "execution_count": 0,
      "outputs": []
    },
    {
      "cell_type": "code",
      "metadata": {
        "id": "w6SnQ163kfik",
        "colab_type": "code",
        "colab": {}
      },
      "source": [
        "boot = 100000\n",
        "bootmean_A = bootstrap(group_A.metrics.values, boot = boot)\n",
        "bootmean_B = bootstrap(group_B.metrics.values, boot = boot)"
      ],
      "execution_count": 0,
      "outputs": []
    },
    {
      "cell_type": "code",
      "metadata": {
        "id": "F_sPCOadC426",
        "colab_type": "code",
        "colab": {}
      },
      "source": [
        "a_q5, a_q95 = np.quantile(bootmean_A, [0.05, 0.95])\n",
        "b_q5, b_q95 = np.quantile(bootmean_B, [0.05, 0.95])"
      ],
      "execution_count": 0,
      "outputs": []
    },
    {
      "cell_type": "code",
      "metadata": {
        "id": "Fc2DBt7-wsIv",
        "colab_type": "code",
        "outputId": "50bb8f89-d966-4c5b-c1fb-0b0f8af0129f",
        "colab": {
          "base_uri": "https://localhost:8080/",
          "height": 592
        }
      },
      "source": [
        "sns.distplot(bootmean_A,label='A');\n",
        "sns.distplot(bootmean_B,label='B');\n",
        "plt.axvline(x = a_q5, linewidth = 3, color = 'r', linestyle = '--');\n",
        "plt.axvline(x = a_q95, linewidth = 3, color = 'r', linestyle = '--');\n",
        "plt.axvline(x = b_q5, linewidth = 3, color = 'b', linestyle = '--');\n",
        "plt.axvline(x = b_q95, linewidth = 3, color = 'b', linestyle = '--');"
      ],
      "execution_count": 0,
      "outputs": [
        {
          "output_type": "display_data",
          "data": {
            "image/png": "[encoded data removed]",
            "text/plain": [
              "<Figure size 1440x720 with 1 Axes>"
            ]
          },
          "metadata": {
            "tags": []
          }
        }
      ]
    },
    {
      "cell_type": "markdown",
      "metadata": {
        "id": "rk3B2S5bZ7mZ",
        "colab_type": "text"
      },
      "source": [
        "Вывод сделать просто — мы получим две плотности вероятности для каждой ветки эксперимента и сможем сравнивать, как пересекаются эти плотности. Если у нас перекрываются 0.5 и 0.95 квантили, значит нет статистически значимой разницы. Но не будем мелочиться и посчитаем p-value."
      ]
    },
    {
      "cell_type": "code",
      "metadata": {
        "id": "2ka57pbEpCS-",
        "colab_type": "code",
        "outputId": "f5e2b6c4-b1b3-44ac-e6bd-42b7a8d4af83",
        "colab": {
          "base_uri": "https://localhost:8080/",
          "height": 34
        }
      },
      "source": [
        "p_value = np.sum(np.mean(group_A.metrics.values)  - np.mean(group_B.metrics.values) <= np.abs(np.array(bootmean_A) - np.array(bootmean_B)))/boot"
      ],
      "execution_count": 0,
      "outputs": [
        {
          "output_type": "execute_result",
          "data": {
            "text/plain": [
              "0.74307"
            ]
          },
          "metadata": {
            "tags": []
          },
          "execution_count": 16
        }
      ]
    },
    {
      "cell_type": "markdown",
      "metadata": {
        "id": "SyuC9ghxLrsw",
        "colab_type": "text"
      },
      "source": [
        "Получили значение больше, чем 0.05, что означает, что нет  статистически значимой разницы"
      ]
    },
    {
      "cell_type": "markdown",
      "metadata": {
        "id": "Wz7MheSe9dpc",
        "colab_type": "text"
      },
      "source": [
        "Кстати, можно было еще применить данную библиотеку для бутстрапа:  https://github.com/facebookincubator/bootstrapped"
      ]
    },
    {
      "cell_type": "markdown",
      "metadata": {
        "id": "aNKnEixmzSvb",
        "colab_type": "text"
      },
      "source": [
        "# **Задание 4**\n",
        "\n",
        "Есть данные с большой дисперсии у метрики (диспресию метрики можно посчитать для каждой группы). Для их дальнейшего анализа дисперсию необходимо сократить. Как определить, что дисперсия действительно большая? Если она большая, как вы будете ее чистить? Ответ аргументировать и описать.  P.S. Вам может помочь лекция Виталия Черемисинова, где он рассказывал про А/Б тесты\n",
        "\n",
        "Описание данных: \n",
        "\n",
        "* metrics -- значение определенной метрики в сервисе для пользователя (например, количество кликов). \n",
        "\n",
        "[Ссылка на данные](https://drive.google.com/file/d/1fc8BGSjDiwbZW6rcr3mMSwAjU2T_BpGW/view?usp=sharing)\n",
        "\n",
        "*Вместе с ответом на задание приложить код*"
      ]
    },
    {
      "cell_type": "code",
      "metadata": {
        "id": "1u9oZkguzSvb",
        "colab_type": "code",
        "outputId": "a7929a3c-2295-4faa-8865-d2097601f265",
        "colab": {
          "base_uri": "https://localhost:8080/",
          "height": 326
        }
      },
      "source": [
        "!wget -O test_4.csv https://drive.google.com/u/0/uc?id=1fc8BGSjDiwbZW6rcr3mMSwAjU2T_BpGW&export=download"
      ],
      "execution_count": 0,
      "outputs": [
        {
          "output_type": "stream",
          "text": [
            "--2020-04-08 18:08:31--  https://drive.google.com/u/0/uc?id=1fc8BGSjDiwbZW6rcr3mMSwAjU2T_BpGW\n",
            "Resolving drive.google.com (drive.google.com)... 172.217.203.138, 172.217.203.139, 172.217.203.113, ...\n",
            "Connecting to drive.google.com (drive.google.com)|172.217.203.138|:443... connected.\n",
            "HTTP request sent, awaiting response... 302 Moved Temporarily\n",
            "Location: https://doc-0s-2o-docs.googleusercontent.com/docs/securesc/ha0ro937gcuc7l7deffksulhg5h7mbp1/jo69ont38c8hesgjo4pl2l99dqvouclb/1586369250000/08786162772281847194/*/1fc8BGSjDiwbZW6rcr3mMSwAjU2T_BpGW [following]\n",
            "Warning: wildcards not supported in HTTP.\n",
            "--2020-04-08 18:08:32--  https://doc-0s-2o-docs.googleusercontent.com/docs/securesc/ha0ro937gcuc7l7deffksulhg5h7mbp1/jo69ont38c8hesgjo4pl2l99dqvouclb/1586369250000/08786162772281847194/*/1fc8BGSjDiwbZW6rcr3mMSwAjU2T_BpGW\n",
            "Resolving doc-0s-2o-docs.googleusercontent.com (doc-0s-2o-docs.googleusercontent.com)... 173.194.217.132, 2607:f8b0:400c:c13::84\n",
            "Connecting to doc-0s-2o-docs.googleusercontent.com (doc-0s-2o-docs.googleusercontent.com)|173.194.217.132|:443... connected.\n",
            "HTTP request sent, awaiting response... 200 OK\n",
            "Length: unspecified [text/csv]\n",
            "Saving to: ‘test_4.csv’\n",
            "\n",
            "test_4.csv              [ <=>                ]   3.18M  --.-KB/s    in 0.02s   \n",
            "\n",
            "2020-04-08 18:08:32 (164 MB/s) - ‘test_4.csv’ saved [3333054]\n",
            "\n"
          ],
          "name": "stdout"
        }
      ]
    },
    {
      "cell_type": "code",
      "metadata": {
        "id": "B0PeCHR_GPRo",
        "colab_type": "code",
        "outputId": "22ef867b-c43a-44dc-e44a-bbad2d1d51d0",
        "colab": {
          "base_uri": "https://localhost:8080/",
          "height": 419
        }
      },
      "source": [
        "import pandas as pd\n",
        "test_4 = pd.read_csv(\"test_4.csv\", delimiter=\";\", index_col=0)\n",
        "test_4"
      ],
      "execution_count": 0,
      "outputs": [
        {
          "output_type": "execute_result",
          "data": {
            "text/html": [
              "<div>\n",
              "<style scoped>\n",
              "    .dataframe tbody tr th:only-of-type {\n",
              "        vertical-align: middle;\n",
              "    }\n",
              "\n",
              "    .dataframe tbody tr th {\n",
              "        vertical-align: top;\n",
              "    }\n",
              "\n",
              "    .dataframe thead th {\n",
              "        text-align: right;\n",
              "    }\n",
              "</style>\n",
              "<table border=\"1\" class=\"dataframe\">\n",
              "  <thead>\n",
              "    <tr style=\"text-align: right;\">\n",
              "      <th></th>\n",
              "      <th>metrics</th>\n",
              "    </tr>\n",
              "  </thead>\n",
              "  <tbody>\n",
              "    <tr>\n",
              "      <th>1</th>\n",
              "      <td>1</td>\n",
              "    </tr>\n",
              "    <tr>\n",
              "      <th>2</th>\n",
              "      <td>1</td>\n",
              "    </tr>\n",
              "    <tr>\n",
              "      <th>3</th>\n",
              "      <td>4</td>\n",
              "    </tr>\n",
              "    <tr>\n",
              "      <th>4</th>\n",
              "      <td>1</td>\n",
              "    </tr>\n",
              "    <tr>\n",
              "      <th>5</th>\n",
              "      <td>1</td>\n",
              "    </tr>\n",
              "    <tr>\n",
              "      <th>...</th>\n",
              "      <td>...</td>\n",
              "    </tr>\n",
              "    <tr>\n",
              "      <th>306835</th>\n",
              "      <td>8</td>\n",
              "    </tr>\n",
              "    <tr>\n",
              "      <th>306836</th>\n",
              "      <td>11</td>\n",
              "    </tr>\n",
              "    <tr>\n",
              "      <th>306837</th>\n",
              "      <td>1</td>\n",
              "    </tr>\n",
              "    <tr>\n",
              "      <th>306838</th>\n",
              "      <td>81</td>\n",
              "    </tr>\n",
              "    <tr>\n",
              "      <th>306839</th>\n",
              "      <td>1</td>\n",
              "    </tr>\n",
              "  </tbody>\n",
              "</table>\n",
              "<p>306839 rows × 1 columns</p>\n",
              "</div>"
            ],
            "text/plain": [
              "        metrics\n",
              "1             1\n",
              "2             1\n",
              "3             4\n",
              "4             1\n",
              "5             1\n",
              "...         ...\n",
              "306835        8\n",
              "306836       11\n",
              "306837        1\n",
              "306838       81\n",
              "306839        1\n",
              "\n",
              "[306839 rows x 1 columns]"
            ]
          },
          "metadata": {
            "tags": []
          },
          "execution_count": 93
        }
      ]
    },
    {
      "cell_type": "markdown",
      "metadata": {
        "id": "snmDGoQjbkU0",
        "colab_type": "text"
      },
      "source": [
        "[Статья](https://www.thinkwithgoogle.com/intl/ru-ru/products-tools/analytical-tools/money-and-ab-tests/)\n",
        "\n",
        "Как стабилизировать данные, чтобы было проще сравнить средние при помощи критерия? Почистить данные.\n",
        "\n",
        "Можем убрать все значения, которые выходят за N стандартных отклонений от среднего и воспринимать их как выбросы. Отрезав эти выбросы, мы стабилизируем выборку, что позволит проще посчитать метрики."
      ]
    },
    {
      "cell_type": "code",
      "metadata": {
        "id": "CXOH9mYdLPwn",
        "colab_type": "code",
        "outputId": "6047a2c2-7590-4b97-e103-958bc930a3dc",
        "colab": {
          "base_uri": "https://localhost:8080/",
          "height": 34
        }
      },
      "source": [
        "test_4.metrics.var()"
      ],
      "execution_count": 0,
      "outputs": [
        {
          "output_type": "execute_result",
          "data": {
            "text/plain": [
              "511.99823268544515"
            ]
          },
          "metadata": {
            "tags": []
          },
          "execution_count": 94
        }
      ]
    },
    {
      "cell_type": "markdown",
      "metadata": {
        "id": "3lPDsAHubn-X",
        "colab_type": "text"
      },
      "source": [
        "Первая мысль: уберем возможные \"выбросы\". Для этого найдем 99-квантиль и оставим все значения, которые меньше этого значения"
      ]
    },
    {
      "cell_type": "code",
      "metadata": {
        "id": "0Ah4kbHua1p7",
        "colab_type": "code",
        "colab": {}
      },
      "source": [
        "q_099 = mquantiles(test_4[\"metrics\"], [0.99])\n",
        "first_df = test_4[test_4[\"metrics\"] <= q_099[0]]"
      ],
      "execution_count": 0,
      "outputs": []
    },
    {
      "cell_type": "markdown",
      "metadata": {
        "id": "wyE3Zf-hcG__",
        "colab_type": "text"
      },
      "source": [
        "Найдем дисперсию"
      ]
    },
    {
      "cell_type": "code",
      "metadata": {
        "id": "GdPVS_FLbMxt",
        "colab_type": "code",
        "outputId": "368580c2-d328-4830-905e-4a0325e5a175",
        "colab": {
          "base_uri": "https://localhost:8080/",
          "height": 34
        }
      },
      "source": [
        "first_df.metrics.var()"
      ],
      "execution_count": 0,
      "outputs": [
        {
          "output_type": "execute_result",
          "data": {
            "text/plain": [
              "279.8730552637073"
            ]
          },
          "metadata": {
            "tags": []
          },
          "execution_count": 96
        }
      ]
    },
    {
      "cell_type": "markdown",
      "metadata": {
        "id": "9KNkt0ufcO42",
        "colab_type": "text"
      },
      "source": [
        "Уменьшили почти в два раза, но может произойти такое, что мы убрали важных для нас покупателей, что нивелирует пользу от уменьшения дисперсии таким способом"
      ]
    },
    {
      "cell_type": "markdown",
      "metadata": {
        "id": "tZk_nU7D-VoY",
        "colab_type": "text"
      },
      "source": [
        "Тогда используем трансформацию Бокса-Кокса."
      ]
    },
    {
      "cell_type": "code",
      "metadata": {
        "id": "lnm2je0p-s-8",
        "colab_type": "code",
        "colab": {}
      },
      "source": [
        "box_cox_metrics, _= st.boxcox(test_4.metrics)"
      ],
      "execution_count": 0,
      "outputs": []
    },
    {
      "cell_type": "code",
      "metadata": {
        "id": "wFwtC44k_LTL",
        "colab_type": "code",
        "outputId": "dadfe58b-cc74-4a32-d07b-eff396e3dbc6",
        "colab": {
          "base_uri": "https://localhost:8080/",
          "height": 34
        }
      },
      "source": [
        "box_cox_metrics.var()"
      ],
      "execution_count": 0,
      "outputs": [
        {
          "output_type": "execute_result",
          "data": {
            "text/plain": [
              "0.43416179602413135"
            ]
          },
          "metadata": {
            "tags": []
          },
          "execution_count": 108
        }
      ]
    },
    {
      "cell_type": "code",
      "metadata": {
        "id": "fFnM4Om1-076",
        "colab_type": "code",
        "outputId": "0e33c19e-0092-4202-dcfc-e58e01cd043a",
        "colab": {
          "base_uri": "https://localhost:8080/",
          "height": 592
        }
      },
      "source": [
        "plt.hist(box_cox_metrics);"
      ],
      "execution_count": 0,
      "outputs": [
        {
          "output_type": "display_data",
          "data": {
            "image/png": "[encoded data removed]",
            "text/plain": [
              "<Figure size 1440x720 with 1 Axes>"
            ]
          },
          "metadata": {
            "tags": []
          }
        }
      ]
    },
    {
      "cell_type": "markdown",
      "metadata": {
        "id": "ET3g7Ja7_Z4I",
        "colab_type": "text"
      },
      "source": [
        "Дисперсия уменьшена! Но стоит помнить, что иметь дела мы теперь будем \n",
        "\n",
        "$$y = \\begin{cases} \n",
        "\\frac{(x^\\lambda - 1)}{\\lambda}, &  \\lambda > 0\\\\ \n",
        "log(x), & \\lambda = 0 \n",
        "\\end{cases}$$\n",
        "\n",
        "с такими данными, поэтому после эксперимента мы должны будем вернуть изначальную величину\n"
      ]
    },
    {
      "cell_type": "markdown",
      "metadata": {
        "id": "KO8Q3wqR_IwH",
        "colab_type": "text"
      },
      "source": [
        "----\n",
        "Также мы можем воспользуемся децильным  [методом уменьшении дисперсии](https://medium.com/statistics-experiments/децильный-метод-или-сокращение-дисперсии-c06758059727). Каждому значению присвоем номер децили, которой оно соответствует."
      ]
    },
    {
      "cell_type": "code",
      "metadata": {
        "id": "YMZB8Y8hc6Eh",
        "colab_type": "code",
        "colab": {}
      },
      "source": [
        "test_4[\"rank_first\"] = test_4[\"metrics\"].rank(method='first')\n",
        "deciles = pd.qcut(test_4.rank_first, 10)\n",
        "test_4['decile'] = deciles.values.codes"
      ],
      "execution_count": 0,
      "outputs": []
    },
    {
      "cell_type": "code",
      "metadata": {
        "id": "hpojb1Rzc8s4",
        "colab_type": "code",
        "outputId": "3d16d261-59a0-4c05-c766-4e8806e9cbcc",
        "colab": {
          "base_uri": "https://localhost:8080/",
          "height": 390
        }
      },
      "source": [
        "test_4[[\"metrics\", \"decile\"]].groupby(\"decile\").var()"
      ],
      "execution_count": 0,
      "outputs": [
        {
          "output_type": "execute_result",
          "data": {
            "text/html": [
              "<div>\n",
              "<style scoped>\n",
              "    .dataframe tbody tr th:only-of-type {\n",
              "        vertical-align: middle;\n",
              "    }\n",
              "\n",
              "    .dataframe tbody tr th {\n",
              "        vertical-align: top;\n",
              "    }\n",
              "\n",
              "    .dataframe thead th {\n",
              "        text-align: right;\n",
              "    }\n",
              "</style>\n",
              "<table border=\"1\" class=\"dataframe\">\n",
              "  <thead>\n",
              "    <tr style=\"text-align: right;\">\n",
              "      <th></th>\n",
              "      <th>metrics</th>\n",
              "    </tr>\n",
              "    <tr>\n",
              "      <th>decile</th>\n",
              "      <th></th>\n",
              "    </tr>\n",
              "  </thead>\n",
              "  <tbody>\n",
              "    <tr>\n",
              "      <th>0</th>\n",
              "      <td>0.000000</td>\n",
              "    </tr>\n",
              "    <tr>\n",
              "      <th>1</th>\n",
              "      <td>0.000000</td>\n",
              "    </tr>\n",
              "    <tr>\n",
              "      <th>2</th>\n",
              "      <td>0.000000</td>\n",
              "    </tr>\n",
              "    <tr>\n",
              "      <th>3</th>\n",
              "      <td>0.000000</td>\n",
              "    </tr>\n",
              "    <tr>\n",
              "      <th>4</th>\n",
              "      <td>0.211297</td>\n",
              "    </tr>\n",
              "    <tr>\n",
              "      <th>5</th>\n",
              "      <td>0.245055</td>\n",
              "    </tr>\n",
              "    <tr>\n",
              "      <th>6</th>\n",
              "      <td>0.515647</td>\n",
              "    </tr>\n",
              "    <tr>\n",
              "      <th>7</th>\n",
              "      <td>2.342361</td>\n",
              "    </tr>\n",
              "    <tr>\n",
              "      <th>8</th>\n",
              "      <td>26.897273</td>\n",
              "    </tr>\n",
              "    <tr>\n",
              "      <th>9</th>\n",
              "      <td>1568.468073</td>\n",
              "    </tr>\n",
              "  </tbody>\n",
              "</table>\n",
              "</div>"
            ],
            "text/plain": [
              "            metrics\n",
              "decile             \n",
              "0          0.000000\n",
              "1          0.000000\n",
              "2          0.000000\n",
              "3          0.000000\n",
              "4          0.211297\n",
              "5          0.245055\n",
              "6          0.515647\n",
              "7          2.342361\n",
              "8         26.897273\n",
              "9       1568.468073"
            ]
          },
          "metadata": {
            "tags": []
          },
          "execution_count": 121
        }
      ]
    },
    {
      "cell_type": "markdown",
      "metadata": {
        "id": "BD6fydvoXfNg",
        "colab_type": "text"
      },
      "source": [
        "---\n",
        "Что-то пошло не так."
      ]
    },
    {
      "cell_type": "markdown",
      "metadata": {
        "id": "zAF5CxiIZUQV",
        "colab_type": "text"
      },
      "source": [
        "---\n",
        "Можно еще попробовать бакетирование, но не уверен, что работает правильно. Так что на этом задание всё. "
      ]
    },
    {
      "cell_type": "code",
      "metadata": {
        "id": "S8QIb_wtLXV8",
        "colab_type": "code",
        "colab": {}
      },
      "source": [
        "number_of_bucket = 1000"
      ],
      "execution_count": 0,
      "outputs": []
    },
    {
      "cell_type": "code",
      "metadata": {
        "id": "c_2DNGR2MQYl",
        "colab_type": "code",
        "colab": {}
      },
      "source": [
        "test_4[\"bucket\"] = np.random.randint(0, number_of_bucket, size = len(test_4))"
      ],
      "execution_count": 0,
      "outputs": []
    },
    {
      "cell_type": "code",
      "metadata": {
        "id": "PwmhwvpRMTUc",
        "colab_type": "code",
        "outputId": "33972ebd-1733-41e3-d400-0461bd142377",
        "colab": {
          "base_uri": "https://localhost:8080/",
          "height": 419
        }
      },
      "source": [
        "test_4"
      ],
      "execution_count": 0,
      "outputs": [
        {
          "output_type": "execute_result",
          "data": {
            "text/html": [
              "<div>\n",
              "<style scoped>\n",
              "    .dataframe tbody tr th:only-of-type {\n",
              "        vertical-align: middle;\n",
              "    }\n",
              "\n",
              "    .dataframe tbody tr th {\n",
              "        vertical-align: top;\n",
              "    }\n",
              "\n",
              "    .dataframe thead th {\n",
              "        text-align: right;\n",
              "    }\n",
              "</style>\n",
              "<table border=\"1\" class=\"dataframe\">\n",
              "  <thead>\n",
              "    <tr style=\"text-align: right;\">\n",
              "      <th></th>\n",
              "      <th>metrics</th>\n",
              "      <th>rank_first</th>\n",
              "      <th>decile</th>\n",
              "      <th>bucket</th>\n",
              "    </tr>\n",
              "  </thead>\n",
              "  <tbody>\n",
              "    <tr>\n",
              "      <th>1</th>\n",
              "      <td>1</td>\n",
              "      <td>1.0</td>\n",
              "      <td>0</td>\n",
              "      <td>131</td>\n",
              "    </tr>\n",
              "    <tr>\n",
              "      <th>2</th>\n",
              "      <td>1</td>\n",
              "      <td>2.0</td>\n",
              "      <td>0</td>\n",
              "      <td>708</td>\n",
              "    </tr>\n",
              "    <tr>\n",
              "      <th>3</th>\n",
              "      <td>4</td>\n",
              "      <td>192824.0</td>\n",
              "      <td>6</td>\n",
              "      <td>511</td>\n",
              "    </tr>\n",
              "    <tr>\n",
              "      <th>4</th>\n",
              "      <td>1</td>\n",
              "      <td>3.0</td>\n",
              "      <td>0</td>\n",
              "      <td>177</td>\n",
              "    </tr>\n",
              "    <tr>\n",
              "      <th>5</th>\n",
              "      <td>1</td>\n",
              "      <td>4.0</td>\n",
              "      <td>0</td>\n",
              "      <td>333</td>\n",
              "    </tr>\n",
              "    <tr>\n",
              "      <th>...</th>\n",
              "      <td>...</td>\n",
              "      <td>...</td>\n",
              "      <td>...</td>\n",
              "      <td>...</td>\n",
              "    </tr>\n",
              "    <tr>\n",
              "      <th>306835</th>\n",
              "      <td>8</td>\n",
              "      <td>237805.0</td>\n",
              "      <td>7</td>\n",
              "      <td>596</td>\n",
              "    </tr>\n",
              "    <tr>\n",
              "      <th>306836</th>\n",
              "      <td>11</td>\n",
              "      <td>248950.0</td>\n",
              "      <td>8</td>\n",
              "      <td>632</td>\n",
              "    </tr>\n",
              "    <tr>\n",
              "      <th>306837</th>\n",
              "      <td>1</td>\n",
              "      <td>132040.0</td>\n",
              "      <td>4</td>\n",
              "      <td>524</td>\n",
              "    </tr>\n",
              "    <tr>\n",
              "      <th>306838</th>\n",
              "      <td>81</td>\n",
              "      <td>300027.0</td>\n",
              "      <td>9</td>\n",
              "      <td>942</td>\n",
              "    </tr>\n",
              "    <tr>\n",
              "      <th>306839</th>\n",
              "      <td>1</td>\n",
              "      <td>132041.0</td>\n",
              "      <td>4</td>\n",
              "      <td>276</td>\n",
              "    </tr>\n",
              "  </tbody>\n",
              "</table>\n",
              "<p>306839 rows × 4 columns</p>\n",
              "</div>"
            ],
            "text/plain": [
              "        metrics  rank_first  decile  bucket\n",
              "1             1         1.0       0     131\n",
              "2             1         2.0       0     708\n",
              "3             4    192824.0       6     511\n",
              "4             1         3.0       0     177\n",
              "5             1         4.0       0     333\n",
              "...         ...         ...     ...     ...\n",
              "306835        8    237805.0       7     596\n",
              "306836       11    248950.0       8     632\n",
              "306837        1    132040.0       4     524\n",
              "306838       81    300027.0       9     942\n",
              "306839        1    132041.0       4     276\n",
              "\n",
              "[306839 rows x 4 columns]"
            ]
          },
          "metadata": {
            "tags": []
          },
          "execution_count": 153
        }
      ]
    },
    {
      "cell_type": "code",
      "metadata": {
        "id": "qmFp17vXMJgX",
        "colab_type": "code",
        "outputId": "700a0c84-8bcc-4811-d605-0be62655b86f",
        "colab": {
          "base_uri": "https://localhost:8080/",
          "height": 592
        }
      },
      "source": [
        "test_4.groupby([\"bucket\"]).mean()[\"metrics\"].plot(kind='hist');"
      ],
      "execution_count": 0,
      "outputs": [
        {
          "output_type": "display_data",
          "data": {
            "image/png": "[encoded data removed]",
            "text/plain": [
              "<Figure size 1440x720 with 1 Axes>"
            ]
          },
          "metadata": {
            "tags": []
          }
        }
      ]
    },
    {
      "cell_type": "markdown",
      "metadata": {
        "id": "OxL9jyw6zSve",
        "colab_type": "text"
      },
      "source": [
        "# **Задание 5**\n",
        "\n",
        "Есть эксперимент с поисковыми подсказками. Вы хотим узнать, как изменился CTR в каждой группе эксперимента.\n",
        "\n",
        "**Данные**\n",
        "\n",
        "- id - уникальный идентификатор пользователя\n",
        "- action - количество кликов\n",
        "- view - кол-во просмотров на одну сессию\n",
        "- variant - вариант a/b теста, где 0 - это версия \"A\", 1 -  версия \"B\".\n",
        "\n",
        "**Задача**\n",
        "\n",
        "- сформировать метрику для оценки эксперимента\n",
        "- подобрать критерий под особенности данных\n",
        "- сделать вывод о значимости эффекта\n",
        "\n",
        "**Данные** \n",
        "\n",
        "[Ссылка на данные](https://www.dropbox.com/s/fdki267uilkfq7l/task5.csv)"
      ]
    },
    {
      "cell_type": "code",
      "metadata": {
        "id": "2wsOBOeJnS7Y",
        "colab_type": "code",
        "outputId": "9179e052-cdc0-4c81-b52c-e2d3263595b3",
        "colab": {
          "base_uri": "https://localhost:8080/",
          "height": 377
        }
      },
      "source": [
        "!wget -O test_5.csv https://www.dropbox.com/s/fdki267uilkfq7l/task5.csv"
      ],
      "execution_count": 0,
      "outputs": [
        {
          "output_type": "stream",
          "text": [
            "--2020-04-08 17:35:06--  https://www.dropbox.com/s/fdki267uilkfq7l/task5.csv\n",
            "Resolving www.dropbox.com (www.dropbox.com)... 162.125.9.1, 2620:100:601f:1::a27d:901\n",
            "Connecting to www.dropbox.com (www.dropbox.com)|162.125.9.1|:443... connected.\n",
            "HTTP request sent, awaiting response... 301 Moved Permanently\n",
            "Location: /s/raw/fdki267uilkfq7l/task5.csv [following]\n",
            "--2020-04-08 17:35:06--  https://www.dropbox.com/s/raw/fdki267uilkfq7l/task5.csv\n",
            "Reusing existing connection to www.dropbox.com:443.\n",
            "HTTP request sent, awaiting response... 302 Found\n",
            "Location: https://ucf4da25b527114f32453083a77d.dl.dropboxusercontent.com/cd/0/inline/A1eRoWRhbcS2cM1XqYEslr6EXeyTuVeWeGlXInJcKh2WVauxxi8ViPleu9yIheZxZX1dO9E4pGmEs50aUwZ6_dZ3kLmjpikGiFADNBE7cP4d06mAnqN3IDNhJKZ4fgk_los/file# [following]\n",
            "--2020-04-08 17:35:06--  https://ucf4da25b527114f32453083a77d.dl.dropboxusercontent.com/cd/0/inline/A1eRoWRhbcS2cM1XqYEslr6EXeyTuVeWeGlXInJcKh2WVauxxi8ViPleu9yIheZxZX1dO9E4pGmEs50aUwZ6_dZ3kLmjpikGiFADNBE7cP4d06mAnqN3IDNhJKZ4fgk_los/file\n",
            "Resolving ucf4da25b527114f32453083a77d.dl.dropboxusercontent.com (ucf4da25b527114f32453083a77d.dl.dropboxusercontent.com)... 162.125.9.6, 2620:100:601f:6::a27d:906\n",
            "Connecting to ucf4da25b527114f32453083a77d.dl.dropboxusercontent.com (ucf4da25b527114f32453083a77d.dl.dropboxusercontent.com)|162.125.9.6|:443... connected.\n",
            "HTTP request sent, awaiting response... 200 OK\n",
            "Length: 115994 (113K) [text/plain]\n",
            "Saving to: ‘test_5.csv’\n",
            "\n",
            "test_5.csv          100%[===================>] 113.28K  --.-KB/s    in 0.04s   \n",
            "\n",
            "2020-04-08 17:35:06 (2.51 MB/s) - ‘test_5.csv’ saved [115994/115994]\n",
            "\n"
          ],
          "name": "stdout"
        }
      ]
    },
    {
      "cell_type": "markdown",
      "metadata": {
        "id": "MFZLAyfmNb7g",
        "colab_type": "text"
      },
      "source": [
        "Посмотрим на определение CTR. CTR - это показатель кликабельности. Это процент людей, которые нажимают на вашу рекламу. Его выражают через отношение количество кликов на количество просмотров, т.е. это пропорция. Применим [z-test](https://www.statisticshowto.com/z-test/) для двух пропорций.\n",
        "\n"
      ]
    },
    {
      "cell_type": "markdown",
      "metadata": {
        "id": "I8jFpwydOUvp",
        "colab_type": "text"
      },
      "source": [
        "$H_0$ для теста состоит в том, что пропорции одинаковы.\n",
        "\n",
        "$H_A$ состоит в том, что пропорции не совпадают."
      ]
    },
    {
      "cell_type": "code",
      "metadata": {
        "id": "ovjtiHGXnVhh",
        "colab_type": "code",
        "outputId": "74e4dcbe-49c8-40d4-f766-4b0f0ab35f5e",
        "colab": {
          "base_uri": "https://localhost:8080/",
          "height": 419
        }
      },
      "source": [
        "test_5 = pd.read_csv(\"test_5.csv\")\n",
        "test_5"
      ],
      "execution_count": 0,
      "outputs": [
        {
          "output_type": "execute_result",
          "data": {
            "text/html": [
              "<div>\n",
              "<style scoped>\n",
              "    .dataframe tbody tr th:only-of-type {\n",
              "        vertical-align: middle;\n",
              "    }\n",
              "\n",
              "    .dataframe tbody tr th {\n",
              "        vertical-align: top;\n",
              "    }\n",
              "\n",
              "    .dataframe thead th {\n",
              "        text-align: right;\n",
              "    }\n",
              "</style>\n",
              "<table border=\"1\" class=\"dataframe\">\n",
              "  <thead>\n",
              "    <tr style=\"text-align: right;\">\n",
              "      <th></th>\n",
              "      <th>id</th>\n",
              "      <th>variant</th>\n",
              "      <th>view</th>\n",
              "      <th>action</th>\n",
              "    </tr>\n",
              "  </thead>\n",
              "  <tbody>\n",
              "    <tr>\n",
              "      <th>0</th>\n",
              "      <td>88258</td>\n",
              "      <td>A</td>\n",
              "      <td>10</td>\n",
              "      <td>2</td>\n",
              "    </tr>\n",
              "    <tr>\n",
              "      <th>1</th>\n",
              "      <td>109938</td>\n",
              "      <td>A</td>\n",
              "      <td>3</td>\n",
              "      <td>1</td>\n",
              "    </tr>\n",
              "    <tr>\n",
              "      <th>2</th>\n",
              "      <td>117644</td>\n",
              "      <td>A</td>\n",
              "      <td>7</td>\n",
              "      <td>5</td>\n",
              "    </tr>\n",
              "    <tr>\n",
              "      <th>3</th>\n",
              "      <td>374080</td>\n",
              "      <td>A</td>\n",
              "      <td>9</td>\n",
              "      <td>9</td>\n",
              "    </tr>\n",
              "    <tr>\n",
              "      <th>4</th>\n",
              "      <td>662082</td>\n",
              "      <td>A</td>\n",
              "      <td>1</td>\n",
              "      <td>1</td>\n",
              "    </tr>\n",
              "    <tr>\n",
              "      <th>...</th>\n",
              "      <td>...</td>\n",
              "      <td>...</td>\n",
              "      <td>...</td>\n",
              "      <td>...</td>\n",
              "    </tr>\n",
              "    <tr>\n",
              "      <th>8186</th>\n",
              "      <td>7706713</td>\n",
              "      <td>B</td>\n",
              "      <td>1</td>\n",
              "      <td>1</td>\n",
              "    </tr>\n",
              "    <tr>\n",
              "      <th>8187</th>\n",
              "      <td>7875223</td>\n",
              "      <td>B</td>\n",
              "      <td>1</td>\n",
              "      <td>1</td>\n",
              "    </tr>\n",
              "    <tr>\n",
              "      <th>8188</th>\n",
              "      <td>4617329</td>\n",
              "      <td>B</td>\n",
              "      <td>9</td>\n",
              "      <td>4</td>\n",
              "    </tr>\n",
              "    <tr>\n",
              "      <th>8189</th>\n",
              "      <td>5394863</td>\n",
              "      <td>B</td>\n",
              "      <td>5</td>\n",
              "      <td>1</td>\n",
              "    </tr>\n",
              "    <tr>\n",
              "      <th>8190</th>\n",
              "      <td>7558165</td>\n",
              "      <td>B</td>\n",
              "      <td>1</td>\n",
              "      <td>1</td>\n",
              "    </tr>\n",
              "  </tbody>\n",
              "</table>\n",
              "<p>8191 rows × 4 columns</p>\n",
              "</div>"
            ],
            "text/plain": [
              "           id variant  view  action\n",
              "0       88258       A    10       2\n",
              "1      109938       A     3       1\n",
              "2      117644       A     7       5\n",
              "3      374080       A     9       9\n",
              "4      662082       A     1       1\n",
              "...       ...     ...   ...     ...\n",
              "8186  7706713       B     1       1\n",
              "8187  7875223       B     1       1\n",
              "8188  4617329       B     9       4\n",
              "8189  5394863       B     5       1\n",
              "8190  7558165       B     1       1\n",
              "\n",
              "[8191 rows x 4 columns]"
            ]
          },
          "metadata": {
            "tags": []
          },
          "execution_count": 36
        }
      ]
    },
    {
      "cell_type": "markdown",
      "metadata": {
        "id": "yg5Hk70-zeDl",
        "colab_type": "text"
      },
      "source": [
        "Можно использовать Id для бакетирования, но мы посмотрим значения z-статистики для пропорции"
      ]
    },
    {
      "cell_type": "code",
      "metadata": {
        "id": "lSs-1_2QnEYG",
        "colab_type": "code",
        "colab": {}
      },
      "source": [
        "group_A_5 = test_5[test_5.variant == \"A\"]\n",
        "group_B_5 = test_5[test_5.variant == \"B\"]"
      ],
      "execution_count": 0,
      "outputs": []
    },
    {
      "cell_type": "code",
      "metadata": {
        "id": "HWECgYgo4Fit",
        "colab_type": "code",
        "outputId": "b036ad5b-5981-464d-d375-4aa8e0b3daf9",
        "colab": {
          "base_uri": "https://localhost:8080/",
          "height": 142
        }
      },
      "source": [
        "group_data = test_5.groupby(\"variant\")[[\"view\", \"action\"]].sum()\n",
        "group_data"
      ],
      "execution_count": 0,
      "outputs": [
        {
          "output_type": "execute_result",
          "data": {
            "text/html": [
              "<div>\n",
              "<style scoped>\n",
              "    .dataframe tbody tr th:only-of-type {\n",
              "        vertical-align: middle;\n",
              "    }\n",
              "\n",
              "    .dataframe tbody tr th {\n",
              "        vertical-align: top;\n",
              "    }\n",
              "\n",
              "    .dataframe thead th {\n",
              "        text-align: right;\n",
              "    }\n",
              "</style>\n",
              "<table border=\"1\" class=\"dataframe\">\n",
              "  <thead>\n",
              "    <tr style=\"text-align: right;\">\n",
              "      <th></th>\n",
              "      <th>view</th>\n",
              "      <th>action</th>\n",
              "    </tr>\n",
              "    <tr>\n",
              "      <th>variant</th>\n",
              "      <th></th>\n",
              "      <th></th>\n",
              "    </tr>\n",
              "  </thead>\n",
              "  <tbody>\n",
              "    <tr>\n",
              "      <th>A</th>\n",
              "      <td>20303</td>\n",
              "      <td>12369</td>\n",
              "    </tr>\n",
              "    <tr>\n",
              "      <th>B</th>\n",
              "      <td>15883</td>\n",
              "      <td>9627</td>\n",
              "    </tr>\n",
              "  </tbody>\n",
              "</table>\n",
              "</div>"
            ],
            "text/plain": [
              "          view  action\n",
              "variant               \n",
              "A        20303   12369\n",
              "B        15883    9627"
            ]
          },
          "metadata": {
            "tags": []
          },
          "execution_count": 57
        }
      ]
    },
    {
      "cell_type": "markdown",
      "metadata": {
        "id": "owXO_dMkpwiC",
        "colab_type": "text"
      },
      "source": [
        "Используем z-test для пропорций"
      ]
    },
    {
      "cell_type": "code",
      "metadata": {
        "id": "uswkWqn_nZNZ",
        "colab_type": "code",
        "colab": {}
      },
      "source": [
        "conversions = group_data[\"action\"].values\n",
        "clicks = group_data[\"view\"].values"
      ],
      "execution_count": 0,
      "outputs": []
    },
    {
      "cell_type": "code",
      "metadata": {
        "id": "pilGErHFnqZ6",
        "colab_type": "code",
        "outputId": "077eb351-642d-406c-c50a-5a158a82ea45",
        "colab": {
          "base_uri": "https://localhost:8080/",
          "height": 34
        }
      },
      "source": [
        "from statsmodels.stats.proportion import proportions_ztest\n",
        "\n",
        "zscore, pvalue = proportions_ztest(conversions, clicks, alternative = 'two-sided')\n",
        "print('zscore = {:.4f}, pvalue = {:.4f}'.format(zscore, pvalue))"
      ],
      "execution_count": 0,
      "outputs": [
        {
          "output_type": "stream",
          "text": [
            "zscore = 0.5995, pvalue = 0.5488\n"
          ],
          "name": "stdout"
        }
      ]
    },
    {
      "cell_type": "code",
      "metadata": {
        "id": "ZXFJ0KlM2FPK",
        "colab_type": "code",
        "colab": {}
      },
      "source": [
        "p_1 = group_data['action'][\"A\"]/group_data['view'][\"A\"]\n",
        "p_2 = group_data['action'][\"B\"]/group_data['view'][\"B\"]\n",
        "p = (group_data['action'][\"A\"]+group_data['action'][\"B\"])/(group_data['view'][\"A\"]+group_data['view'][\"B\"])\n",
        "\n",
        "z_static_obs = (p_1 - p_2)/np.sqrt(p * (1-p) * (1/group_data['view'][\"A\"] + 1/group_data['view'][\"B\"]))"
      ],
      "execution_count": 0,
      "outputs": []
    },
    {
      "cell_type": "code",
      "metadata": {
        "id": "8QhxkO923wnJ",
        "colab_type": "code",
        "outputId": "c9984ca9-62da-4552-d9bf-881486df7019",
        "colab": {
          "base_uri": "https://localhost:8080/",
          "height": 34
        }
      },
      "source": [
        "z_static_obs"
      ],
      "execution_count": 0,
      "outputs": [
        {
          "output_type": "execute_result",
          "data": {
            "text/plain": [
              "0.5995066080068987"
            ]
          },
          "metadata": {
            "tags": []
          },
          "execution_count": 84
        }
      ]
    },
    {
      "cell_type": "markdown",
      "metadata": {
        "id": "UGfd5W9ZpGeo",
        "colab_type": "text"
      },
      "source": [
        "В результате p-value= 0.5488 > alpha=0.05 и мы не можем отклонить H0, что означает, что высокий CTR, наблюдаемый в экспериментальной группе, обусловлен  случайностью. Рекомендация для маркетинговой команды / команды продуктов заключается в том, чтобы не развертывать этот новый план/изменения."
      ]
    },
    {
      "cell_type": "code",
      "metadata": {
        "id": "Lk2t1HELy7vA",
        "colab_type": "code",
        "colab": {}
      },
      "source": [
        "def bootstrap_for_proportion(action_a, action_b, view_a, view_b, size_a, size_b, boot = 100000):\n",
        "    \"\"\"\n",
        "    https://www.statisticshowto.com/z-test/\n",
        "    \"\"\"\n",
        "    z_statistics = []\n",
        "    for _ in range(boot):\n",
        "        \n",
        "        bootsample_action_A = np.random.choice(action_a, size=size_a, replace=True)\n",
        "        bootsample_action_B = np.random.choice(action_b, size=size_b, replace=True)\n",
        "\n",
        "        bootsample_view_A = np.random.choice(view_a, size=size_a, replace=True)\n",
        "        bootsample_view_B = np.random.choice(view_b, size=size_b, replace=True)\n",
        "\n",
        "        boot_action_a = np.sum(bootsample_action_A)\n",
        "        boot_action_b = np.sum(bootsample_action_B)\n",
        "\n",
        "        boot_view_a = np.sum(bootsample_view_A)\n",
        "        boot_view_b = np.sum(bootsample_view_B)\n",
        "\n",
        "        p_1 = boot_action_a/boot_view_a\n",
        "        p_2 = boot_action_b/boot_view_b\n",
        "\n",
        "        p = (boot_action_a + boot_action_b)/(boot_view_a + boot_view_b)\n",
        "\n",
        "        z_statistic = (p_1 - p_2)/np.sqrt(p * (1-p) * (1/boot_view_a + 1/boot_view_b))\n",
        "        #print(p_1, p_2, p, z_statistic, np.sqrt(p * (1-p) * (1/size_a + 1/size_b)))\n",
        "        z_statistics.append(z_statistic)\n",
        "    return np.array(z_statistics)"
      ],
      "execution_count": 0,
      "outputs": []
    },
    {
      "cell_type": "code",
      "metadata": {
        "id": "bXbBqLxvy3L5",
        "colab_type": "code",
        "colab": {}
      },
      "source": [
        "boot = 100000\n",
        "z_statistics_bootstrap = bootstrap_for_proportion(group_A_5.action.values, group_B_5.action.values, \\\n",
        "                                                  group_A_5.view.values, group_B_5.view.values, len(group_A_5), len(group_B_5), boot)"
      ],
      "execution_count": 0,
      "outputs": []
    },
    {
      "cell_type": "code",
      "metadata": {
        "id": "jGCY13mG2_o3",
        "colab_type": "code",
        "outputId": "e2ea2457-e91d-4cc4-c05a-dd16f35c70fd",
        "colab": {
          "base_uri": "https://localhost:8080/",
          "height": 34
        }
      },
      "source": [
        "pvalue = np.sum(z_statistics_bootstrap >= z_static_obs)/boot\n",
        "pvalue"
      ],
      "execution_count": 0,
      "outputs": [
        {
          "output_type": "execute_result",
          "data": {
            "text/plain": [
              "0.49996"
            ]
          },
          "metadata": {
            "tags": []
          },
          "execution_count": 89
        }
      ]
    },
    {
      "cell_type": "markdown",
      "metadata": {
        "id": "TCYjYWee8UDW",
        "colab_type": "text"
      },
      "source": [
        "Заметим, что p_value ниже, чем в proportions_ztest, но при этом мы все еще не можем отклонить $H_0$"
      ]
    }
  ]
}