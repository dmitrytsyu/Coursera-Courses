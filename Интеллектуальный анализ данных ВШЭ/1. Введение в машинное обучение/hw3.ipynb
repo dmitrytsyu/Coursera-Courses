{
 "cells": [
  {
   "cell_type": "markdown",
   "metadata": {},
   "source": [
    "## Введение в анализ данных, ИАД-2\n",
    "\n",
    "## НИУ ВШЭ, 2018-19 учебный год"
   ]
  },
  {
   "cell_type": "markdown",
   "metadata": {},
   "source": [
    "### Домашнее задание №3"
   ]
  },
  {
   "cell_type": "markdown",
   "metadata": {},
   "source": [
    "Задание выполнил(а): Цю-жен-цин Дмитрий"
   ]
  },
  {
   "cell_type": "markdown",
   "metadata": {},
   "source": [
    "### Общая информация"
   ]
  },
  {
   "cell_type": "markdown",
   "metadata": {},
   "source": [
    "__Дата выдачи:__ 06.05.2019\n",
    "\n",
    "__Дедлайн:__ 23:59 23.05.2019"
   ]
  },
  {
   "cell_type": "markdown",
   "metadata": {},
   "source": [
    "### Оценивание и штрафы\n",
    "\n",
    "Максимальное число баллов, которое можно получить за обязательную часть — 10, а максимальное число дополнительных баллов, которые пойдут в бонус — 0.5.\n",
    "\n",
    "За сдачу задания позже срока на итоговую оценку за задание накладывается штраф в размере 1 балл в день, но получить отрицательную оценку нельзя."
   ]
  },
  {
   "cell_type": "markdown",
   "metadata": {},
   "source": [
    "__Внимание!__ Домашнее задание выполняется самостоятельно. «Похожие» решения считаются плагиатом и все задействованные студенты (в том числе те, у кого списали) не могут получить за него больше 0 баллов."
   ]
  },
  {
   "cell_type": "markdown",
   "metadata": {},
   "source": [
    "### Формат сдачи"
   ]
  },
  {
   "cell_type": "markdown",
   "metadata": {},
   "source": [
    "Загрузка файлов с решениями происходит в системе [Anytask](https://anytask.org/).\n",
    "\n",
    "Инвайт для группы ИАД-2: zCH4F32"
   ]
  },
  {
   "cell_type": "code",
   "execution_count": 268,
   "metadata": {},
   "outputs": [],
   "source": [
    "import numpy as np\n",
    "import pandas as pd\n",
    "from sklearn.datasets import load_breast_cancer, load_boston\n",
    "from sklearn.metrics import accuracy_score, mean_squared_error\n",
    "from sklearn.model_selection import train_test_split, cross_val_score\n",
    "from sklearn.tree import DecisionTreeClassifier, DecisionTreeRegressor\n",
    "from sklearn.ensemble import BaggingRegressor, RandomForestClassifier, GradientBoostingRegressor\n",
    "from scipy import stats\n",
    "from sklearn.model_selection import train_test_split, GridSearchCV, cross_val_score, KFold"
   ]
  },
  {
   "cell_type": "markdown",
   "metadata": {},
   "source": [
    "# Random Forest своими руками (4)\n",
    "\n",
    "Реализуйте алгоритм случайного леса. В соответствии с построением алгоритма, ваша реализация должна сочетать в себе метод бэггинга и метод случайных подмножеств. Также она должна работать для двух типов задач: как для задачи регрессии, так и для задачи классификации.\n",
    "\n",
    "*Примечание. Вы можете использовать `DecisionTree` из `sklearn`.*"
   ]
  },
  {
   "cell_type": "code",
   "execution_count": 342,
   "metadata": {},
   "outputs": [],
   "source": [
    "class RandomForest:\n",
    "    def __init__(self, n_estimators, max_depth, max_features='sqrt', task_type='regression'):\n",
    "        \"\"\"\n",
    "        PARAMETERS:\n",
    "        n_estimators - number of trees in the ensemble\n",
    "        max_depth - maximum depth of a tree\n",
    "        max_features - maximum features for each split in DecisionTree from sklearn\n",
    "        task_type - 'regression' or 'classification'\n",
    "        \"\"\"\n",
    "        n_samples, self.n_features_ = X.shape\n",
    "        self.n_estimators = n_estimators\n",
    "        self.max_depth = max_depth\n",
    "        if isinstance(max_features, str):\n",
    "            if max_features == \"sqrt\":\n",
    "                self.max_features = max(1, int(np.sqrt(self.n_features_)))\n",
    "            elif self.max_features == \"log2\":\n",
    "                self.max_features = max(1, int(np.log2(self.n_features_)))\n",
    "        elif isinstance(max_features, int):\n",
    "            self.max_features = max_features\n",
    "        else:  # float\n",
    "            if max_features > 0.0:\n",
    "                self.max_features = max(1, int(max_features * self.n_features_))\n",
    "            else:\n",
    "                self.max_features = 0\n",
    "\n",
    "        \n",
    "        self.task_type = task_type\n",
    "        self.trees = []\n",
    "        \n",
    "        \n",
    "    def fit(self, X_train, y_train):\n",
    "        \"\"\"\n",
    "        INPUT:\n",
    "        X_train - np.array of shape (k, d)\n",
    "        y_train - np.array of shape (k,)\n",
    "        \"\"\"\n",
    "        \n",
    "        for i in range(self.n_estimators):\n",
    "            idxs = np.random.permutation(X_train.shape[0])\n",
    "            if self.task_type == 'regression':\n",
    "                tree = DecisionTreeRegressor(max_features = self.max_features, max_depth = self.max_depth) \n",
    "                tree.fit(X_train[idxs], y_train[idxs])\n",
    "                self.trees.append(tree)\n",
    "            elif self.task_type == 'classification':\n",
    "                tree = DecisionTreeClassifier(max_features = self.max_features, max_depth = self.max_depth)\n",
    "                tree.fit(X_train[idxs], y_train[idxs])\n",
    "                self.trees.append(tree)\n",
    "            \n",
    "          \n",
    "\n",
    "        return self\n",
    "        \n",
    "    def predict(self, X_test):\n",
    "        \"\"\"\n",
    "        INPUT:\n",
    "        X_test - np.array of shape (m, d)\n",
    "        \n",
    "        OUTPUT:\n",
    "        y_pred - np.array of shape (m,)\n",
    "        \"\"\"\n",
    "        if self.task_type == 'regression':\n",
    "            return np.mean([t.predict(X_test) for t in self.trees], axis = 0)\n",
    "        elif self.task_type == 'classification':\n",
    "            return (stats.mode([t.predict(X_test) for t in self.trees], axis = 0)[0])[0]\n",
    "            \n",
    "\n",
    "       "
   ]
  },
  {
   "cell_type": "markdown",
   "metadata": {},
   "source": [
    "Проверьте вашу реализацию на задаче регрессии. Подберите оптимальные гиперпараметры, чтобы получить MSE < 10.25 **(не меняйте параметры сида)**."
   ]
  },
  {
   "cell_type": "code",
   "execution_count": 375,
   "metadata": {},
   "outputs": [],
   "source": [
    "boston = load_boston()\n",
    "X = boston.data\n",
    "y = boston.target\n",
    "X_train, X_test, y_train, y_test = train_test_split(X, y, test_size=0.25, random_state=13)"
   ]
  },
  {
   "cell_type": "code",
   "execution_count": 376,
   "metadata": {
    "scrolled": true
   },
   "outputs": [
    {
     "data": {
      "text/plain": [
       "9.642785025285113"
      ]
     },
     "execution_count": 376,
     "metadata": {},
     "output_type": "execute_result"
    }
   ],
   "source": [
    "np.random.seed(19052019)\n",
    "\n",
    "random_forest = RandomForest(n_estimators = 40, max_depth = 10, max_features = 'sqrt', task_type= 'regression')\n",
    "random_forest.fit(X_train, y_train)\n",
    "predicted_value = random_forest.predict(X_test)\n",
    "mean_squared_error(y_test, predicted_value)\n"
   ]
  },
  {
   "cell_type": "markdown",
   "metadata": {},
   "source": [
    "Проверьте вашу реализацию на задаче классификации. Подберите оптимальные гиперпараметры, чтобы получить accuracy > 0.83 **(не меняйте параметры сида)**."
   ]
  },
  {
   "cell_type": "code",
   "execution_count": 377,
   "metadata": {},
   "outputs": [],
   "source": [
    "breast_cancer = load_breast_cancer()\n",
    "X = breast_cancer.data\n",
    "y = breast_cancer.target\n",
    "X_train, X_test, y_train, y_test = train_test_split(X, y, test_size=0.25, random_state=13)"
   ]
  },
  {
   "cell_type": "code",
   "execution_count": 378,
   "metadata": {},
   "outputs": [
    {
     "data": {
      "text/plain": [
       "0.951048951048951"
      ]
     },
     "execution_count": 378,
     "metadata": {},
     "output_type": "execute_result"
    }
   ],
   "source": [
    "np.random.seed(19052019)\n",
    "random_forest = RandomForest(20, 5, 'sqrt', 'classification')\n",
    "random_forest.fit(X_train, y_train)\n",
    "predicted_values = random_forest.predict(X_test)\n",
    "accuracy_score(y_test, predicted_values)"
   ]
  },
  {
   "cell_type": "markdown",
   "metadata": {},
   "source": [
    "# Градиентный бустинг своими руками (4)\n",
    "\n",
    "Реализуйте алгоритм градиентного бустинга для регрессии. Напомним основные формулы.\n",
    "\n",
    "Обозначим текущую композицию на $N-1$ шаге за $a_{N - 1}(x_i)$. Следующий базовый алгоритм $b_N(x_i)$ обучается на ответах $-\\frac{\\partial L(y_i, z)}{\\partial z}\\Bigl|_{z = a_{N - 1}(x_i)}$, где $L(y_i, z)$ — значение функции потерь на объекте при правильном ответе $y_i$ и предсказании $z$. Композиция на следующем шаге получается следующим образом:\n",
    "\n",
    "$$\n",
    "a_N(x_i) = a_{N-1}(x_i) + \\nu\\gamma_Nb_N(x_i)\n",
    "$$\n",
    "\n",
    "Здесь $\\nu$ — гиперпараметр learning rate, $\\gamma_N$ — оптимальный вес, настраиваемый на каждом шаге алгоритма, который можно найти по следующей формуле (обратите внимание на отсутствие $\\nu$):\n",
    "\n",
    "$$\n",
    "\\gamma_N = \\mathrm{arg}\\min_\\gamma \\frac{1}{\\ell}\\sum\\limits_{i=1}^{\\ell}L\\left(y_i, a_{N - 1}(x_i) + \\gamma b_N(x_i)\\right)\n",
    "$$\n",
    "\n",
    "Можете принять $\\gamma_N = 1$ для каждого $N$. Однако вы можете получить дополнительные 0.5 баллов за реализацию нахождения оптимального $\\gamma_N$ на каждом шаге.\n",
    "\n",
    "В качестве функции потерь возьмите MSE.\n",
    "\n",
    "*Примечание. Вы можете использовать `DecisionTree` из `sklearn` и методы оптимизации из различных библиотек.*"
   ]
  },
  {
   "cell_type": "code",
   "execution_count": 379,
   "metadata": {},
   "outputs": [],
   "source": [
    "class GradientBoosting:\n",
    "    def __init__(self, n_estimators, max_depth, learning_rate=0.1):\n",
    "        \"\"\"\n",
    "        PARAMETERS:\n",
    "        n_estimators - number of trees in the ensemble\n",
    "        max_depth - maximum depth of a tree\n",
    "        learning_rate - coefficient by which new algorithm result is multiplied\n",
    "        \"\"\"\n",
    "        self.n_estimators = n_estimators\n",
    "        self.max_depth = max_depth\n",
    "        self.learning_rate = learning_rate\n",
    "        self.trees = []\n",
    "        self.mean_train = None\n",
    "        for _ in range(n_estimators):\n",
    "            tree = DecisionTreeRegressor(max_depth = self.max_depth, )\n",
    "            self.trees.append(tree)\n",
    "        \n",
    "      \n",
    "    def fit(self, X_train, y_train):\n",
    "        self.mean_train = np.mean(y_train)\n",
    "        y_pred = np.full(np.shape(y_train), np.mean(y_train, axis=0))\n",
    "        for i in range(self.n_estimators):\n",
    "            pseudo_residuals = -(y_train - y_pred)\n",
    "            self.trees[i].fit(X_train, pseudo_residuals)\n",
    "            new_base_prediction = self.trees[i].predict(X_train)\n",
    "            y_opt = 1\n",
    "            y_opt = np.sum(y_pred * new_base_prediction - new_base_prediction * y_train)/np.sum(np.power(new_base_prediction,2))\n",
    "            y_pred = y_pred  - self.learning_rate * new_base_prediction * y_opt\n",
    "                    \n",
    "    def predict(self, X):\n",
    "        y_pred = np.full(X.shape[0], self.mean_train)\n",
    "        for tree in self.trees:\n",
    "            update = tree.predict(X)\n",
    "            update = np.multiply(self.learning_rate, update)\n",
    "            y_pred = -update if not y_pred.any() else y_pred - update\n",
    "        return y_pred\n",
    "    \n",
    "    "
   ]
  },
  {
   "cell_type": "markdown",
   "metadata": {},
   "source": [
    "Проверьте вашу реализацию. Подберите оптимальные гиперпараметры, чтобы получить MSE < 10 как в обычном случае, так и при нахождении оптимального шага **(не меняйте параметры сида)**."
   ]
  },
  {
   "cell_type": "code",
   "execution_count": 380,
   "metadata": {},
   "outputs": [],
   "source": [
    "boston = load_boston()\n",
    "\n",
    "X = boston.data\n",
    "y = boston.target\n",
    "X_train, X_test, y_train, y_test = train_test_split(X, y, test_size=0.25, random_state=13)"
   ]
  },
  {
   "cell_type": "code",
   "execution_count": 381,
   "metadata": {},
   "outputs": [
    {
     "data": {
      "text/plain": [
       "9.572959343867181"
      ]
     },
     "execution_count": 381,
     "metadata": {},
     "output_type": "execute_result"
    }
   ],
   "source": [
    "np.random.seed(19052019)\n",
    "gb = GradientBoosting(n_estimators = 20, max_depth =6, learning_rate =0.30000000000000004)\n",
    "gb.fit(X_train, y_train)\n",
    "l = gb.predict(X_test)\n",
    "mean_squared_error(y_test, l)"
   ]
  },
  {
   "cell_type": "markdown",
   "metadata": {},
   "source": [
    "Поиск гиперпараметров (можно ли сделать это через GridSearch или RandomSearch?)"
   ]
  },
  {
   "cell_type": "code",
   "execution_count": 277,
   "metadata": {
    "scrolled": true
   },
   "outputs": [],
   "source": [
    "# np.random.seed(19052019)\n",
    "# min_value = 20\n",
    "# hyper = {0: 20}\n",
    "# count = 0\n",
    "# for i in range(0, 500, 10):\n",
    "#     if i in range(10, 500, 40):\n",
    "#         print(i)\n",
    "#     for k in range(1, 20):\n",
    "#         for m in np.linspace(0.1, 0.9, num = 5):\n",
    "#             np.random.seed(19052019)\n",
    "#             gb = GradientBoosting(i, k, learning_rate = m)\n",
    "#             gb.fit(X_train, y_train)\n",
    "#             my_predict = gb.predict(X_test)\n",
    "#             mse = mean_squared_error(y_test, my_predict)\n",
    "#             if  mse < min_value:\n",
    "#                 min_value = mse\n",
    "#                 hyper[i+k] = [i, k, m]"
   ]
  },
  {
   "cell_type": "code",
   "execution_count": 278,
   "metadata": {},
   "outputs": [
    {
     "data": {
      "text/plain": [
       "9.60715280944966"
      ]
     },
     "execution_count": 278,
     "metadata": {},
     "output_type": "execute_result"
    }
   ],
   "source": [
    "min_value"
   ]
  },
  {
   "cell_type": "code",
   "execution_count": 279,
   "metadata": {},
   "outputs": [
    {
     "data": {
      "text/plain": [
       "{0: 20, 10: [10, 6, 0.30000000000000004], 20: [20, 6, 0.30000000000000004]}"
      ]
     },
     "execution_count": 279,
     "metadata": {},
     "output_type": "execute_result"
    }
   ],
   "source": [
    "hyper"
   ]
  },
  {
   "cell_type": "markdown",
   "metadata": {},
   "source": [
    "Для удобства проверяющего укажите, пожалуйста, реализовали ли вы нахождение оптимального шага?\n",
    "\n",
    "- Да / Нет"
   ]
  },
  {
   "cell_type": "code",
   "execution_count": 280,
   "metadata": {},
   "outputs": [],
   "source": [
    " def fit(self, X_train, y_train):\n",
    "        \"\"\"\n",
    "        INPUT:\n",
    "        X_train - np.array of shape (k, d)\n",
    "        y_train - np.array of shape (k,)\n",
    "        \"\"\"\n",
    "        f = {}\n",
    "        h = {}\n",
    "        y_opt = 1\n",
    "        f[0] = np.full(len(y_train), np.mean(y_train, axis = 0))\n",
    "       \n",
    "        for m in range(1, self.n_estimators): \n",
    "            residual = 2 * (y_train - f[m-1])\n",
    "            tree = DecisionTreeRegressor(max_depth = self.max_depth)\n",
    "            tree.fit(X_train, residual)\n",
    "            self.trees.append(tree)\n",
    "            h[m] = tree.predict(X_train)\n",
    "            f[m] = f[m-1] + self.learning_rate* y_opt * h[m]\n",
    "            \n",
    "def predict(self, X_test):\n",
    "        \"\"\"\n",
    "        INPUT:\n",
    "        X_test - np.array of shape (m, d)\n",
    "        \n",
    "        OUTPUT:\n",
    "        y_pred - np.array of shape (m,)\n",
    "        \"\"\"\n",
    "        \n",
    "        predict = np.zeros(X_test.shape[0]) \n",
    "        y_opt = 1\n",
    "        for i in range(2, self.n_estimators):\n",
    "            predict = predict + self.learning_rate * y_opt * self.trees[i-1].predict(X_test)\n",
    "            \n",
    "        return predict"
   ]
  },
  {
   "cell_type": "markdown",
   "metadata": {},
   "source": [
    "# Крестики-нолики (2)"
   ]
  },
  {
   "cell_type": "code",
   "execution_count": 281,
   "metadata": {},
   "outputs": [],
   "source": [
    "import pandas as pd\n",
    "from sklearn.ensemble import RandomForestClassifier\n",
    "from sklearn.model_selection import cross_val_score"
   ]
  },
  {
   "cell_type": "markdown",
   "metadata": {},
   "source": [
    "В этом задании вы поработаете с [данными](https://datahub.io/machine-learning/tic-tac-toe-endgame), состоящими из конечных позиций в игру крестики-нолики. Признаками являются клетки, их значениями — то, что изображено в данной клетке на момент окончания игры (крестик, нолик или пусто). Стоит задача бинарной классификации — определить, выиграли крестики (класс `True`) или нолики (класс `False`). Напомним, что одна из сторон выигрывает в том случае, если либо одна из диагоналей, либо одна из горизонталей, либо одна из вертикалей заполнена соответствующими символами."
   ]
  },
  {
   "cell_type": "code",
   "execution_count": 282,
   "metadata": {},
   "outputs": [
    {
     "data": {
      "text/html": [
       "<div>\n",
       "<style scoped>\n",
       "    .dataframe tbody tr th:only-of-type {\n",
       "        vertical-align: middle;\n",
       "    }\n",
       "\n",
       "    .dataframe tbody tr th {\n",
       "        vertical-align: top;\n",
       "    }\n",
       "\n",
       "    .dataframe thead th {\n",
       "        text-align: right;\n",
       "    }\n",
       "</style>\n",
       "<table border=\"1\" class=\"dataframe\">\n",
       "  <thead>\n",
       "    <tr style=\"text-align: right;\">\n",
       "      <th></th>\n",
       "      <th>TL</th>\n",
       "      <th>TM</th>\n",
       "      <th>TR</th>\n",
       "      <th>ML</th>\n",
       "      <th>MM</th>\n",
       "      <th>MR</th>\n",
       "      <th>BL</th>\n",
       "      <th>BM</th>\n",
       "      <th>BR</th>\n",
       "      <th>class</th>\n",
       "    </tr>\n",
       "  </thead>\n",
       "  <tbody>\n",
       "    <tr>\n",
       "      <th>0</th>\n",
       "      <td>x</td>\n",
       "      <td>x</td>\n",
       "      <td>x</td>\n",
       "      <td>x</td>\n",
       "      <td>o</td>\n",
       "      <td>o</td>\n",
       "      <td>x</td>\n",
       "      <td>o</td>\n",
       "      <td>o</td>\n",
       "      <td>True</td>\n",
       "    </tr>\n",
       "    <tr>\n",
       "      <th>1</th>\n",
       "      <td>x</td>\n",
       "      <td>x</td>\n",
       "      <td>x</td>\n",
       "      <td>x</td>\n",
       "      <td>o</td>\n",
       "      <td>o</td>\n",
       "      <td>o</td>\n",
       "      <td>x</td>\n",
       "      <td>o</td>\n",
       "      <td>True</td>\n",
       "    </tr>\n",
       "    <tr>\n",
       "      <th>2</th>\n",
       "      <td>x</td>\n",
       "      <td>x</td>\n",
       "      <td>x</td>\n",
       "      <td>x</td>\n",
       "      <td>o</td>\n",
       "      <td>o</td>\n",
       "      <td>o</td>\n",
       "      <td>o</td>\n",
       "      <td>x</td>\n",
       "      <td>True</td>\n",
       "    </tr>\n",
       "    <tr>\n",
       "      <th>3</th>\n",
       "      <td>x</td>\n",
       "      <td>x</td>\n",
       "      <td>x</td>\n",
       "      <td>x</td>\n",
       "      <td>o</td>\n",
       "      <td>o</td>\n",
       "      <td>o</td>\n",
       "      <td>b</td>\n",
       "      <td>b</td>\n",
       "      <td>True</td>\n",
       "    </tr>\n",
       "    <tr>\n",
       "      <th>4</th>\n",
       "      <td>x</td>\n",
       "      <td>x</td>\n",
       "      <td>x</td>\n",
       "      <td>x</td>\n",
       "      <td>o</td>\n",
       "      <td>o</td>\n",
       "      <td>b</td>\n",
       "      <td>o</td>\n",
       "      <td>b</td>\n",
       "      <td>True</td>\n",
       "    </tr>\n",
       "  </tbody>\n",
       "</table>\n",
       "</div>"
      ],
      "text/plain": [
       "  TL TM TR ML MM MR BL BM BR  class\n",
       "0  x  x  x  x  o  o  x  o  o   True\n",
       "1  x  x  x  x  o  o  o  x  o   True\n",
       "2  x  x  x  x  o  o  o  o  x   True\n",
       "3  x  x  x  x  o  o  o  b  b   True\n",
       "4  x  x  x  x  o  o  b  o  b   True"
      ]
     },
     "execution_count": 282,
     "metadata": {},
     "output_type": "execute_result"
    }
   ],
   "source": [
    "data = pd.read_csv('tic-tac-toe.csv')\n",
    "X = data.drop('class', axis=1)\n",
    "y = data['class'].astype(int)\n",
    "data.head()"
   ]
  },
  {
   "cell_type": "code",
   "execution_count": 283,
   "metadata": {},
   "outputs": [
    {
     "data": {
      "text/html": [
       "<div>\n",
       "<style scoped>\n",
       "    .dataframe tbody tr th:only-of-type {\n",
       "        vertical-align: middle;\n",
       "    }\n",
       "\n",
       "    .dataframe tbody tr th {\n",
       "        vertical-align: top;\n",
       "    }\n",
       "\n",
       "    .dataframe thead th {\n",
       "        text-align: right;\n",
       "    }\n",
       "</style>\n",
       "<table border=\"1\" class=\"dataframe\">\n",
       "  <thead>\n",
       "    <tr style=\"text-align: right;\">\n",
       "      <th></th>\n",
       "      <th>TL</th>\n",
       "      <th>TM</th>\n",
       "      <th>TR</th>\n",
       "      <th>ML</th>\n",
       "      <th>MM</th>\n",
       "      <th>MR</th>\n",
       "      <th>BL</th>\n",
       "      <th>BM</th>\n",
       "      <th>BR</th>\n",
       "    </tr>\n",
       "  </thead>\n",
       "  <tbody>\n",
       "    <tr>\n",
       "      <th>0</th>\n",
       "      <td>1</td>\n",
       "      <td>1</td>\n",
       "      <td>1</td>\n",
       "      <td>1</td>\n",
       "      <td>-1</td>\n",
       "      <td>-1</td>\n",
       "      <td>1</td>\n",
       "      <td>-1</td>\n",
       "      <td>-1</td>\n",
       "    </tr>\n",
       "    <tr>\n",
       "      <th>1</th>\n",
       "      <td>1</td>\n",
       "      <td>1</td>\n",
       "      <td>1</td>\n",
       "      <td>1</td>\n",
       "      <td>-1</td>\n",
       "      <td>-1</td>\n",
       "      <td>-1</td>\n",
       "      <td>1</td>\n",
       "      <td>-1</td>\n",
       "    </tr>\n",
       "    <tr>\n",
       "      <th>2</th>\n",
       "      <td>1</td>\n",
       "      <td>1</td>\n",
       "      <td>1</td>\n",
       "      <td>1</td>\n",
       "      <td>-1</td>\n",
       "      <td>-1</td>\n",
       "      <td>-1</td>\n",
       "      <td>-1</td>\n",
       "      <td>1</td>\n",
       "    </tr>\n",
       "    <tr>\n",
       "      <th>3</th>\n",
       "      <td>1</td>\n",
       "      <td>1</td>\n",
       "      <td>1</td>\n",
       "      <td>1</td>\n",
       "      <td>-1</td>\n",
       "      <td>-1</td>\n",
       "      <td>-1</td>\n",
       "      <td>0</td>\n",
       "      <td>0</td>\n",
       "    </tr>\n",
       "    <tr>\n",
       "      <th>4</th>\n",
       "      <td>1</td>\n",
       "      <td>1</td>\n",
       "      <td>1</td>\n",
       "      <td>1</td>\n",
       "      <td>-1</td>\n",
       "      <td>-1</td>\n",
       "      <td>0</td>\n",
       "      <td>-1</td>\n",
       "      <td>0</td>\n",
       "    </tr>\n",
       "    <tr>\n",
       "      <th>5</th>\n",
       "      <td>1</td>\n",
       "      <td>1</td>\n",
       "      <td>1</td>\n",
       "      <td>1</td>\n",
       "      <td>-1</td>\n",
       "      <td>-1</td>\n",
       "      <td>0</td>\n",
       "      <td>0</td>\n",
       "      <td>-1</td>\n",
       "    </tr>\n",
       "    <tr>\n",
       "      <th>6</th>\n",
       "      <td>1</td>\n",
       "      <td>1</td>\n",
       "      <td>1</td>\n",
       "      <td>1</td>\n",
       "      <td>-1</td>\n",
       "      <td>0</td>\n",
       "      <td>-1</td>\n",
       "      <td>-1</td>\n",
       "      <td>0</td>\n",
       "    </tr>\n",
       "    <tr>\n",
       "      <th>7</th>\n",
       "      <td>1</td>\n",
       "      <td>1</td>\n",
       "      <td>1</td>\n",
       "      <td>1</td>\n",
       "      <td>-1</td>\n",
       "      <td>0</td>\n",
       "      <td>-1</td>\n",
       "      <td>0</td>\n",
       "      <td>-1</td>\n",
       "    </tr>\n",
       "    <tr>\n",
       "      <th>8</th>\n",
       "      <td>1</td>\n",
       "      <td>1</td>\n",
       "      <td>1</td>\n",
       "      <td>1</td>\n",
       "      <td>-1</td>\n",
       "      <td>0</td>\n",
       "      <td>0</td>\n",
       "      <td>-1</td>\n",
       "      <td>-1</td>\n",
       "    </tr>\n",
       "    <tr>\n",
       "      <th>9</th>\n",
       "      <td>1</td>\n",
       "      <td>1</td>\n",
       "      <td>1</td>\n",
       "      <td>1</td>\n",
       "      <td>0</td>\n",
       "      <td>-1</td>\n",
       "      <td>-1</td>\n",
       "      <td>-1</td>\n",
       "      <td>0</td>\n",
       "    </tr>\n",
       "    <tr>\n",
       "      <th>10</th>\n",
       "      <td>1</td>\n",
       "      <td>1</td>\n",
       "      <td>1</td>\n",
       "      <td>1</td>\n",
       "      <td>0</td>\n",
       "      <td>-1</td>\n",
       "      <td>-1</td>\n",
       "      <td>0</td>\n",
       "      <td>-1</td>\n",
       "    </tr>\n",
       "    <tr>\n",
       "      <th>11</th>\n",
       "      <td>1</td>\n",
       "      <td>1</td>\n",
       "      <td>1</td>\n",
       "      <td>1</td>\n",
       "      <td>0</td>\n",
       "      <td>-1</td>\n",
       "      <td>0</td>\n",
       "      <td>-1</td>\n",
       "      <td>-1</td>\n",
       "    </tr>\n",
       "    <tr>\n",
       "      <th>12</th>\n",
       "      <td>1</td>\n",
       "      <td>1</td>\n",
       "      <td>1</td>\n",
       "      <td>-1</td>\n",
       "      <td>1</td>\n",
       "      <td>-1</td>\n",
       "      <td>1</td>\n",
       "      <td>-1</td>\n",
       "      <td>-1</td>\n",
       "    </tr>\n",
       "    <tr>\n",
       "      <th>13</th>\n",
       "      <td>1</td>\n",
       "      <td>1</td>\n",
       "      <td>1</td>\n",
       "      <td>-1</td>\n",
       "      <td>1</td>\n",
       "      <td>-1</td>\n",
       "      <td>-1</td>\n",
       "      <td>1</td>\n",
       "      <td>-1</td>\n",
       "    </tr>\n",
       "    <tr>\n",
       "      <th>14</th>\n",
       "      <td>1</td>\n",
       "      <td>1</td>\n",
       "      <td>1</td>\n",
       "      <td>-1</td>\n",
       "      <td>1</td>\n",
       "      <td>-1</td>\n",
       "      <td>-1</td>\n",
       "      <td>-1</td>\n",
       "      <td>1</td>\n",
       "    </tr>\n",
       "  </tbody>\n",
       "</table>\n",
       "</div>"
      ],
      "text/plain": [
       "    TL  TM  TR  ML  MM  MR  BL  BM  BR\n",
       "0    1   1   1   1  -1  -1   1  -1  -1\n",
       "1    1   1   1   1  -1  -1  -1   1  -1\n",
       "2    1   1   1   1  -1  -1  -1  -1   1\n",
       "3    1   1   1   1  -1  -1  -1   0   0\n",
       "4    1   1   1   1  -1  -1   0  -1   0\n",
       "5    1   1   1   1  -1  -1   0   0  -1\n",
       "6    1   1   1   1  -1   0  -1  -1   0\n",
       "7    1   1   1   1  -1   0  -1   0  -1\n",
       "8    1   1   1   1  -1   0   0  -1  -1\n",
       "9    1   1   1   1   0  -1  -1  -1   0\n",
       "10   1   1   1   1   0  -1  -1   0  -1\n",
       "11   1   1   1   1   0  -1   0  -1  -1\n",
       "12   1   1   1  -1   1  -1   1  -1  -1\n",
       "13   1   1   1  -1   1  -1  -1   1  -1\n",
       "14   1   1   1  -1   1  -1  -1  -1   1"
      ]
     },
     "execution_count": 283,
     "metadata": {},
     "output_type": "execute_result"
    }
   ],
   "source": [
    "X = X.applymap(lambda y: 1 if y == 'x' else -1 if y == 'o' else 0)\n",
    "X.head(15)"
   ]
  },
  {
   "cell_type": "markdown",
   "metadata": {},
   "source": [
    "Применим метод случайного леса к данным и посмотрим на среднее значение accuracy на кросс-валидации."
   ]
  },
  {
   "cell_type": "code",
   "execution_count": 284,
   "metadata": {},
   "outputs": [
    {
     "name": "stdout",
     "output_type": "stream",
     "text": [
      "0.8917722942607311\n"
     ]
    }
   ],
   "source": [
    "rf = RandomForestClassifier(n_estimators=500, max_depth=10, random_state=19052019)\n",
    "score = cross_val_score(rf, X, y, cv=5, scoring='accuracy').mean()\n",
    "print(score)"
   ]
  },
  {
   "cell_type": "markdown",
   "metadata": {},
   "source": [
    "Задача: улучшите данное значение до >0.945 с помощью Feature Engineering."
   ]
  },
  {
   "cell_type": "markdown",
   "metadata": {},
   "source": [
    "Добавим признаки, определяющие победу в классических крестиках-ноликах: по горизонталям, вертикалям и диагоналям."
   ]
  },
  {
   "cell_type": "code",
   "execution_count": 285,
   "metadata": {},
   "outputs": [],
   "source": [
    "X['1Hor'] = X['TL'] + X['TM'] + X['TR']\n",
    "X['2Hor'] = X['ML'] + X['MM'] + X['MR']\n",
    "X['3Hor'] = X['BL'] + X['BM'] + X['BR']\n",
    "X['1Col'] = X['TL'] + X['ML'] + X['BL']\n",
    "X['2Col'] = X['TM'] + X['MM'] + X['BM']\n",
    "X['3Col'] = X['TR'] + X['MR'] + X['BR']\n",
    "X['1Diag'] = X['TL'] + X['MM'] + X['BR']\n",
    "X['2Diag'] = X['TR'] + X['MM'] + X['BL']"
   ]
  },
  {
   "cell_type": "code",
   "execution_count": 286,
   "metadata": {},
   "outputs": [
    {
     "name": "stdout",
     "output_type": "stream",
     "text": [
      "0.9469766432466159\n"
     ]
    }
   ],
   "source": [
    "rf = RandomForestClassifier(n_estimators=500, max_depth=10, random_state=19052019)\n",
    "score = cross_val_score(rf, X, y, cv=5, scoring='accuracy').mean()\n",
    "print(score)"
   ]
  }
 ],
 "metadata": {
  "kernelspec": {
   "display_name": "Python 3",
   "language": "python",
   "name": "python3"
  },
  "language_info": {
   "codemirror_mode": {
    "name": "ipython",
    "version": 3
   },
   "file_extension": ".py",
   "mimetype": "text/x-python",
   "name": "python",
   "nbconvert_exporter": "python",
   "pygments_lexer": "ipython3",
   "version": "3.7.1"
  }
 },
 "nbformat": 4,
 "nbformat_minor": 2
}
